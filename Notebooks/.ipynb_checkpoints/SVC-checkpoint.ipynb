{
 "cells": [
  {
   "cell_type": "code",
   "execution_count": 7,
   "metadata": {},
   "outputs": [],
   "source": [
    "from sklearn.model_selection import GridSearchCV\n",
    "from sklearn.ensemble import RandomForestClassifier\n",
    "import pandas as pd\n",
    "import numpy as np\n",
    "from sklearn.svm import SVC\n",
    "from sklearn import svm\n",
    "import numpy as np\n",
    "from sklearn.datasets.samples_generator import make_blobs\n",
    "from sklearn.model_selection import train_test_split\n",
    "from matplotlib import pyplot as plt\n",
    "from sklearn.svm import LinearSVC\n",
    "from sklearn.metrics import confusion_matrix\n",
    "from sklearn.metrics import classification_report"
   ]
  },
  {
   "cell_type": "code",
   "execution_count": 8,
   "metadata": {},
   "outputs": [],
   "source": [
    "df = pd.read_csv(r\"C:\\Users\\Álvaro\\Final-project\\Data\\data.csv\")"
   ]
  },
  {
   "cell_type": "code",
   "execution_count": 9,
   "metadata": {},
   "outputs": [
    {
     "data": {
      "text/html": [
       "<div>\n",
       "<style scoped>\n",
       "    .dataframe tbody tr th:only-of-type {\n",
       "        vertical-align: middle;\n",
       "    }\n",
       "\n",
       "    .dataframe tbody tr th {\n",
       "        vertical-align: top;\n",
       "    }\n",
       "\n",
       "    .dataframe thead th {\n",
       "        text-align: right;\n",
       "    }\n",
       "</style>\n",
       "<table border=\"1\" class=\"dataframe\">\n",
       "  <thead>\n",
       "    <tr style=\"text-align: right;\">\n",
       "      <th></th>\n",
       "      <th>eventTime_ay</th>\n",
       "      <th>Date</th>\n",
       "      <th>email</th>\n",
       "      <th>firstName</th>\n",
       "      <th>lastName</th>\n",
       "      <th>Sub_Categoria</th>\n",
       "      <th>campaign</th>\n",
       "      <th>medium</th>\n",
       "      <th>userId</th>\n",
       "      <th>source</th>\n",
       "      <th>...</th>\n",
       "      <th>time_diff_ay_ac</th>\n",
       "      <th>time_diff_ac_vg</th>\n",
       "      <th>time_diff_vg_ff</th>\n",
       "      <th>time_diff_ff_fd</th>\n",
       "      <th>time_diff_fd_pm</th>\n",
       "      <th>city</th>\n",
       "      <th>cityId</th>\n",
       "      <th>region</th>\n",
       "      <th>regionId</th>\n",
       "      <th>sessions</th>\n",
       "    </tr>\n",
       "  </thead>\n",
       "  <tbody>\n",
       "    <tr>\n",
       "      <th>0</th>\n",
       "      <td>2020-05-09 10:19:12</td>\n",
       "      <td>2020-05-09</td>\n",
       "      <td>eduardoperez@seincomobiliario.com</td>\n",
       "      <td>EDUARDO</td>\n",
       "      <td>PEREZ</td>\n",
       "      <td>disenador-de-muebles</td>\n",
       "      <td>NaN</td>\n",
       "      <td>NaN</td>\n",
       "      <td>083e8b2f-af6a-46b4-a9b9-4f79c1a32cf1</td>\n",
       "      <td>NaN</td>\n",
       "      <td>...</td>\n",
       "      <td>NaN</td>\n",
       "      <td>NaN</td>\n",
       "      <td>0 days 00:00:03</td>\n",
       "      <td>NaN</td>\n",
       "      <td>NaN</td>\n",
       "      <td>Barcelona</td>\n",
       "      <td>1005424</td>\n",
       "      <td>Catalonia</td>\n",
       "      <td>20278</td>\n",
       "      <td>2.0</td>\n",
       "    </tr>\n",
       "    <tr>\n",
       "      <th>1</th>\n",
       "      <td>2020-04-12 14:50:10</td>\n",
       "      <td>2020-04-12</td>\n",
       "      <td>alexvonder@hotmail.com</td>\n",
       "      <td>Alexandra</td>\n",
       "      <td>Perez</td>\n",
       "      <td>chofer</td>\n",
       "      <td>01_España_Genéricas</td>\n",
       "      <td>ppc</td>\n",
       "      <td>0feedfe0-5452-434c-8a70-845fa3fd638a</td>\n",
       "      <td>adwords</td>\n",
       "      <td>...</td>\n",
       "      <td>NaN</td>\n",
       "      <td>NaN</td>\n",
       "      <td>0 days 00:00:02</td>\n",
       "      <td>NaN</td>\n",
       "      <td>NaN</td>\n",
       "      <td>(not set)</td>\n",
       "      <td>(not set)</td>\n",
       "      <td>Balearic Islands</td>\n",
       "      <td>21387</td>\n",
       "      <td>6.0</td>\n",
       "    </tr>\n",
       "    <tr>\n",
       "      <th>2</th>\n",
       "      <td>2020-11-08 18:09:23</td>\n",
       "      <td>2020-11-08</td>\n",
       "      <td>Evo@gmail.com</td>\n",
       "      <td>Juanjo</td>\n",
       "      <td>Akze</td>\n",
       "      <td>fotoperiodista</td>\n",
       "      <td>10430315940</td>\n",
       "      <td>cpc</td>\n",
       "      <td>18bb05eb-d592-4459-a682-f622afb7208c</td>\n",
       "      <td>adwords</td>\n",
       "      <td>...</td>\n",
       "      <td>NaN</td>\n",
       "      <td>NaN</td>\n",
       "      <td>NaN</td>\n",
       "      <td>NaN</td>\n",
       "      <td>NaN</td>\n",
       "      <td>Mollet del Valles</td>\n",
       "      <td>1005431</td>\n",
       "      <td>Catalonia</td>\n",
       "      <td>20278</td>\n",
       "      <td>2.0</td>\n",
       "    </tr>\n",
       "    <tr>\n",
       "      <th>3</th>\n",
       "      <td>2020-08-25 15:18:38</td>\n",
       "      <td>2020-08-25</td>\n",
       "      <td>cesardelacalle@grupoccs.es</td>\n",
       "      <td>cesar fernando</td>\n",
       "      <td>de la calle verde</td>\n",
       "      <td>conserje</td>\n",
       "      <td>10430285424</td>\n",
       "      <td>cpc</td>\n",
       "      <td>328d85a1-28b3-493d-ad17-ab58e4567357</td>\n",
       "      <td>adwords</td>\n",
       "      <td>...</td>\n",
       "      <td>NaN</td>\n",
       "      <td>NaN</td>\n",
       "      <td>NaN</td>\n",
       "      <td>NaN</td>\n",
       "      <td>NaN</td>\n",
       "      <td>Villanueva de la Canada</td>\n",
       "      <td>9049240</td>\n",
       "      <td>Madrid</td>\n",
       "      <td>9047045</td>\n",
       "      <td>1.0</td>\n",
       "    </tr>\n",
       "    <tr>\n",
       "      <th>4</th>\n",
       "      <td>2020-11-16 11:02:42</td>\n",
       "      <td>2020-11-16</td>\n",
       "      <td>brsbrs02@gmail.com</td>\n",
       "      <td>Bruno</td>\n",
       "      <td>RS</td>\n",
       "      <td>proyectista</td>\n",
       "      <td>10430285424</td>\n",
       "      <td>cpc</td>\n",
       "      <td>39d91a35-e406-462d-a7a5-7b2291ba8340</td>\n",
       "      <td>adwords</td>\n",
       "      <td>...</td>\n",
       "      <td>NaN</td>\n",
       "      <td>NaN</td>\n",
       "      <td>NaN</td>\n",
       "      <td>NaN</td>\n",
       "      <td>NaN</td>\n",
       "      <td>A Coruna</td>\n",
       "      <td>1005479</td>\n",
       "      <td>Galicia</td>\n",
       "      <td>20280</td>\n",
       "      <td>1.0</td>\n",
       "    </tr>\n",
       "    <tr>\n",
       "      <th>...</th>\n",
       "      <td>...</td>\n",
       "      <td>...</td>\n",
       "      <td>...</td>\n",
       "      <td>...</td>\n",
       "      <td>...</td>\n",
       "      <td>...</td>\n",
       "      <td>...</td>\n",
       "      <td>...</td>\n",
       "      <td>...</td>\n",
       "      <td>...</td>\n",
       "      <td>...</td>\n",
       "      <td>...</td>\n",
       "      <td>...</td>\n",
       "      <td>...</td>\n",
       "      <td>...</td>\n",
       "      <td>...</td>\n",
       "      <td>...</td>\n",
       "      <td>...</td>\n",
       "      <td>...</td>\n",
       "      <td>...</td>\n",
       "      <td>...</td>\n",
       "    </tr>\n",
       "    <tr>\n",
       "      <th>8057</th>\n",
       "      <td>2020-07-05 11:44:34</td>\n",
       "      <td>2020-07-05</td>\n",
       "      <td>kk@hotmail.com</td>\n",
       "      <td>Santi</td>\n",
       "      <td>Mirlo</td>\n",
       "      <td>entrenador-o-monitor-deportivo</td>\n",
       "      <td>NaN</td>\n",
       "      <td>NaN</td>\n",
       "      <td>7a6ca821-1e99-4156-bb35-9d904828b26b</td>\n",
       "      <td>NaN</td>\n",
       "      <td>...</td>\n",
       "      <td>NaN</td>\n",
       "      <td>NaN</td>\n",
       "      <td>0 days 00:00:03</td>\n",
       "      <td>NaN</td>\n",
       "      <td>NaN</td>\n",
       "      <td>Castellon de la Plana</td>\n",
       "      <td>1005539</td>\n",
       "      <td>Valencian Community</td>\n",
       "      <td>21388</td>\n",
       "      <td>1.0</td>\n",
       "    </tr>\n",
       "    <tr>\n",
       "      <th>8058</th>\n",
       "      <td>2020-08-29 08:45:46</td>\n",
       "      <td>2020-08-29</td>\n",
       "      <td>sarah@slyne.com</td>\n",
       "      <td>Sarah</td>\n",
       "      <td>Slyne</td>\n",
       "      <td>entrenador-o-monitor-deportivo</td>\n",
       "      <td>NaN</td>\n",
       "      <td>NaN</td>\n",
       "      <td>ab772667-56c1-4e2a-b938-ae6e4e3980e3</td>\n",
       "      <td>NaN</td>\n",
       "      <td>...</td>\n",
       "      <td>NaN</td>\n",
       "      <td>NaN</td>\n",
       "      <td>NaN</td>\n",
       "      <td>NaN</td>\n",
       "      <td>NaN</td>\n",
       "      <td>Seville</td>\n",
       "      <td>1005421</td>\n",
       "      <td>Andalusia</td>\n",
       "      <td>20269</td>\n",
       "      <td>2.0</td>\n",
       "    </tr>\n",
       "    <tr>\n",
       "      <th>8059</th>\n",
       "      <td>2020-06-04 09:03:30</td>\n",
       "      <td>2020-06-04</td>\n",
       "      <td>saraculebras@gmail.com</td>\n",
       "      <td>Sara</td>\n",
       "      <td>Culebras Yagüe</td>\n",
       "      <td>entrenador-o-monitor-deportivo</td>\n",
       "      <td>NaN</td>\n",
       "      <td>NaN</td>\n",
       "      <td>dc059f05-6e2a-4cb6-9436-826b38d87ce9</td>\n",
       "      <td>NaN</td>\n",
       "      <td>...</td>\n",
       "      <td>NaN</td>\n",
       "      <td>NaN</td>\n",
       "      <td>0 days 00:00:03</td>\n",
       "      <td>NaN</td>\n",
       "      <td>NaN</td>\n",
       "      <td>Torrejon de Ardoz</td>\n",
       "      <td>1005496</td>\n",
       "      <td>Madrid</td>\n",
       "      <td>9047045</td>\n",
       "      <td>1.0</td>\n",
       "    </tr>\n",
       "    <tr>\n",
       "      <th>8060</th>\n",
       "      <td>2020-09-30 16:03:25</td>\n",
       "      <td>2020-09-30</td>\n",
       "      <td>blancopris@gmail.com</td>\n",
       "      <td>Priscila</td>\n",
       "      <td>Abbona</td>\n",
       "      <td>entrenador-o-monitor-deportivo</td>\n",
       "      <td>RC_pillarpage_nurturing</td>\n",
       "      <td>email</td>\n",
       "      <td>e2af6a50-4e9e-42c0-a5fc-784141160d31</td>\n",
       "      <td>hs_automation</td>\n",
       "      <td>...</td>\n",
       "      <td>NaN</td>\n",
       "      <td>NaN</td>\n",
       "      <td>0 days 00:00:04</td>\n",
       "      <td>NaN</td>\n",
       "      <td>NaN</td>\n",
       "      <td>Pamplona</td>\n",
       "      <td>1005503</td>\n",
       "      <td>Navarre</td>\n",
       "      <td>9047051</td>\n",
       "      <td>1.0</td>\n",
       "    </tr>\n",
       "    <tr>\n",
       "      <th>8061</th>\n",
       "      <td>2020-09-12 07:44:00</td>\n",
       "      <td>2020-09-12</td>\n",
       "      <td>sharktvdavid@gmail.com</td>\n",
       "      <td>David</td>\n",
       "      <td>Jimenez Ortega</td>\n",
       "      <td>entrenador-o-monitor-deportivo</td>\n",
       "      <td>10430285424</td>\n",
       "      <td>cpc</td>\n",
       "      <td>aa27f98a-4b31-45be-9cb0-f2d5566a978c</td>\n",
       "      <td>adwords</td>\n",
       "      <td>...</td>\n",
       "      <td>NaN</td>\n",
       "      <td>NaN</td>\n",
       "      <td>0 days 00:00:08</td>\n",
       "      <td>0 days 00:04:05</td>\n",
       "      <td>NaN</td>\n",
       "      <td>Palma</td>\n",
       "      <td>1005517</td>\n",
       "      <td>Balearic Islands</td>\n",
       "      <td>20287</td>\n",
       "      <td>3.0</td>\n",
       "    </tr>\n",
       "  </tbody>\n",
       "</table>\n",
       "<p>8062 rows × 106 columns</p>\n",
       "</div>"
      ],
      "text/plain": [
       "             eventTime_ay        Date                              email  \\\n",
       "0     2020-05-09 10:19:12  2020-05-09  eduardoperez@seincomobiliario.com   \n",
       "1     2020-04-12 14:50:10  2020-04-12             alexvonder@hotmail.com   \n",
       "2     2020-11-08 18:09:23  2020-11-08                      Evo@gmail.com   \n",
       "3     2020-08-25 15:18:38  2020-08-25         cesardelacalle@grupoccs.es   \n",
       "4     2020-11-16 11:02:42  2020-11-16                 brsbrs02@gmail.com   \n",
       "...                   ...         ...                                ...   \n",
       "8057  2020-07-05 11:44:34  2020-07-05                     kk@hotmail.com   \n",
       "8058  2020-08-29 08:45:46  2020-08-29                    sarah@slyne.com   \n",
       "8059  2020-06-04 09:03:30  2020-06-04             saraculebras@gmail.com   \n",
       "8060  2020-09-30 16:03:25  2020-09-30               blancopris@gmail.com   \n",
       "8061  2020-09-12 07:44:00  2020-09-12             sharktvdavid@gmail.com   \n",
       "\n",
       "           firstName           lastName                   Sub_Categoria  \\\n",
       "0            EDUARDO              PEREZ            disenador-de-muebles   \n",
       "1          Alexandra              Perez                          chofer   \n",
       "2             Juanjo               Akze                  fotoperiodista   \n",
       "3     cesar fernando  de la calle verde                        conserje   \n",
       "4              Bruno                 RS                     proyectista   \n",
       "...              ...                ...                             ...   \n",
       "8057           Santi              Mirlo  entrenador-o-monitor-deportivo   \n",
       "8058           Sarah              Slyne  entrenador-o-monitor-deportivo   \n",
       "8059            Sara     Culebras Yagüe  entrenador-o-monitor-deportivo   \n",
       "8060        Priscila             Abbona  entrenador-o-monitor-deportivo   \n",
       "8061           David     Jimenez Ortega  entrenador-o-monitor-deportivo   \n",
       "\n",
       "                     campaign medium                                userId  \\\n",
       "0                         NaN    NaN  083e8b2f-af6a-46b4-a9b9-4f79c1a32cf1   \n",
       "1         01_España_Genéricas    ppc  0feedfe0-5452-434c-8a70-845fa3fd638a   \n",
       "2                 10430315940    cpc  18bb05eb-d592-4459-a682-f622afb7208c   \n",
       "3                 10430285424    cpc  328d85a1-28b3-493d-ad17-ab58e4567357   \n",
       "4                 10430285424    cpc  39d91a35-e406-462d-a7a5-7b2291ba8340   \n",
       "...                       ...    ...                                   ...   \n",
       "8057                      NaN    NaN  7a6ca821-1e99-4156-bb35-9d904828b26b   \n",
       "8058                      NaN    NaN  ab772667-56c1-4e2a-b938-ae6e4e3980e3   \n",
       "8059                      NaN    NaN  dc059f05-6e2a-4cb6-9436-826b38d87ce9   \n",
       "8060  RC_pillarpage_nurturing  email  e2af6a50-4e9e-42c0-a5fc-784141160d31   \n",
       "8061              10430285424    cpc  aa27f98a-4b31-45be-9cb0-f2d5566a978c   \n",
       "\n",
       "             source  ...  time_diff_ay_ac  time_diff_ac_vg  time_diff_vg_ff  \\\n",
       "0               NaN  ...              NaN              NaN  0 days 00:00:03   \n",
       "1           adwords  ...              NaN              NaN  0 days 00:00:02   \n",
       "2           adwords  ...              NaN              NaN              NaN   \n",
       "3           adwords  ...              NaN              NaN              NaN   \n",
       "4           adwords  ...              NaN              NaN              NaN   \n",
       "...             ...  ...              ...              ...              ...   \n",
       "8057            NaN  ...              NaN              NaN  0 days 00:00:03   \n",
       "8058            NaN  ...              NaN              NaN              NaN   \n",
       "8059            NaN  ...              NaN              NaN  0 days 00:00:03   \n",
       "8060  hs_automation  ...              NaN              NaN  0 days 00:00:04   \n",
       "8061        adwords  ...              NaN              NaN  0 days 00:00:08   \n",
       "\n",
       "      time_diff_ff_fd time_diff_fd_pm                     city     cityId  \\\n",
       "0                 NaN             NaN                Barcelona    1005424   \n",
       "1                 NaN             NaN                (not set)  (not set)   \n",
       "2                 NaN             NaN        Mollet del Valles    1005431   \n",
       "3                 NaN             NaN  Villanueva de la Canada    9049240   \n",
       "4                 NaN             NaN                 A Coruna    1005479   \n",
       "...               ...             ...                      ...        ...   \n",
       "8057              NaN             NaN    Castellon de la Plana    1005539   \n",
       "8058              NaN             NaN                  Seville    1005421   \n",
       "8059              NaN             NaN        Torrejon de Ardoz    1005496   \n",
       "8060              NaN             NaN                 Pamplona    1005503   \n",
       "8061  0 days 00:04:05             NaN                    Palma    1005517   \n",
       "\n",
       "                   region  regionId sessions  \n",
       "0               Catalonia     20278      2.0  \n",
       "1        Balearic Islands     21387      6.0  \n",
       "2               Catalonia     20278      2.0  \n",
       "3                  Madrid   9047045      1.0  \n",
       "4                 Galicia     20280      1.0  \n",
       "...                   ...       ...      ...  \n",
       "8057  Valencian Community     21388      1.0  \n",
       "8058            Andalusia     20269      2.0  \n",
       "8059               Madrid   9047045      1.0  \n",
       "8060              Navarre   9047051      1.0  \n",
       "8061     Balearic Islands     20287      3.0  \n",
       "\n",
       "[8062 rows x 106 columns]"
      ]
     },
     "execution_count": 9,
     "metadata": {},
     "output_type": "execute_result"
    }
   ],
   "source": [
    "df"
   ]
  },
  {
   "cell_type": "markdown",
   "metadata": {},
   "source": [
    "We take out regions that are not from Spain"
   ]
  },
  {
   "cell_type": "code",
   "execution_count": 10,
   "metadata": {},
   "outputs": [],
   "source": [
    "df = df.sort_values(by = 'Date', ascending = True)"
   ]
  },
  {
   "cell_type": "code",
   "execution_count": 11,
   "metadata": {},
   "outputs": [],
   "source": [
    "df[\"region\"].replace(' ', '_', regex=True, inplace=True)"
   ]
  },
  {
   "cell_type": "code",
   "execution_count": 12,
   "metadata": {},
   "outputs": [],
   "source": [
    "df = df[~df['region'].isin([\"Ile-de-France\",\"(not_set)\",\"Occitanie\",\"England\",\"Bogota\",\"Bavaria\",\"North_Rhine-Westphalia\",\"Porto_District\",\"Santiago_Metropolitan_Region\",\"Morelos\",\"Melilla\",\"Scotland\",\"Andorra_la_Vella\",\"Zulia\",\"Prague\",\"Lombardy\",\"Hessen\",\"New_York\",\"Capital_District\",\"North_Holland\",\"Occitania\",\"Azuay\",\"Cartago_Province\",\"Utrecht\",\"New_Hampshire\",\"Pays_de_la_Loire\",\"Georgia\",\"Santa_Fe_Province\",\"Buenos_Aires\",\"Rio_Grande\",\"Vienna\"])]"
   ]
  },
  {
   "cell_type": "code",
   "execution_count": null,
   "metadata": {},
   "outputs": [],
   "source": []
  },
  {
   "cell_type": "code",
   "execution_count": 13,
   "metadata": {},
   "outputs": [],
   "source": [
    "df2 = df[[ 'categorySlug', 'region', 'RC', 'Comercio', 'sale']]"
   ]
  },
  {
   "cell_type": "markdown",
   "metadata": {},
   "source": [
    "Dropna columns"
   ]
  },
  {
   "cell_type": "code",
   "execution_count": 14,
   "metadata": {},
   "outputs": [],
   "source": [
    "df3=df2.dropna()"
   ]
  },
  {
   "cell_type": "code",
   "execution_count": 15,
   "metadata": {},
   "outputs": [
    {
     "data": {
      "text/html": [
       "<div>\n",
       "<style scoped>\n",
       "    .dataframe tbody tr th:only-of-type {\n",
       "        vertical-align: middle;\n",
       "    }\n",
       "\n",
       "    .dataframe tbody tr th {\n",
       "        vertical-align: top;\n",
       "    }\n",
       "\n",
       "    .dataframe thead th {\n",
       "        text-align: right;\n",
       "    }\n",
       "</style>\n",
       "<table border=\"1\" class=\"dataframe\">\n",
       "  <thead>\n",
       "    <tr style=\"text-align: right;\">\n",
       "      <th></th>\n",
       "      <th>categorySlug</th>\n",
       "      <th>region</th>\n",
       "      <th>RC</th>\n",
       "      <th>Comercio</th>\n",
       "      <th>sale</th>\n",
       "    </tr>\n",
       "  </thead>\n",
       "  <tbody>\n",
       "    <tr>\n",
       "      <th>2252</th>\n",
       "      <td>negocio-inmobiliario</td>\n",
       "      <td>Balearic_Islands</td>\n",
       "      <td>0.0</td>\n",
       "      <td>1.0</td>\n",
       "      <td>0</td>\n",
       "    </tr>\n",
       "    <tr>\n",
       "      <th>7648</th>\n",
       "      <td>muebles-decoracion-y-menaje-hogar</td>\n",
       "      <td>Andalusia</td>\n",
       "      <td>0.0</td>\n",
       "      <td>1.0</td>\n",
       "      <td>0</td>\n",
       "    </tr>\n",
       "    <tr>\n",
       "      <th>6225</th>\n",
       "      <td>hosteleria-y-restauracion</td>\n",
       "      <td>Madrid</td>\n",
       "      <td>0.0</td>\n",
       "      <td>1.0</td>\n",
       "      <td>0</td>\n",
       "    </tr>\n",
       "    <tr>\n",
       "      <th>5047</th>\n",
       "      <td>hosteleria-y-restauracion</td>\n",
       "      <td>Madrid</td>\n",
       "      <td>0.0</td>\n",
       "      <td>1.0</td>\n",
       "      <td>0</td>\n",
       "    </tr>\n",
       "    <tr>\n",
       "      <th>5048</th>\n",
       "      <td>hosteleria-y-restauracion</td>\n",
       "      <td>Madrid</td>\n",
       "      <td>0.0</td>\n",
       "      <td>1.0</td>\n",
       "      <td>0</td>\n",
       "    </tr>\n",
       "    <tr>\n",
       "      <th>...</th>\n",
       "      <td>...</td>\n",
       "      <td>...</td>\n",
       "      <td>...</td>\n",
       "      <td>...</td>\n",
       "      <td>...</td>\n",
       "    </tr>\n",
       "    <tr>\n",
       "      <th>7183</th>\n",
       "      <td>deportes-y-ocio</td>\n",
       "      <td>Valencian_Community</td>\n",
       "      <td>0.0</td>\n",
       "      <td>1.0</td>\n",
       "      <td>0</td>\n",
       "    </tr>\n",
       "    <tr>\n",
       "      <th>7678</th>\n",
       "      <td>deportes-y-ocio</td>\n",
       "      <td>Andalusia</td>\n",
       "      <td>1.0</td>\n",
       "      <td>0.0</td>\n",
       "      <td>0</td>\n",
       "    </tr>\n",
       "    <tr>\n",
       "      <th>2939</th>\n",
       "      <td>negocio-inmobiliario</td>\n",
       "      <td>Andalusia</td>\n",
       "      <td>0.0</td>\n",
       "      <td>1.0</td>\n",
       "      <td>0</td>\n",
       "    </tr>\n",
       "    <tr>\n",
       "      <th>2187</th>\n",
       "      <td>negocio-inmobiliario</td>\n",
       "      <td>Valencian_Community</td>\n",
       "      <td>0.0</td>\n",
       "      <td>1.0</td>\n",
       "      <td>0</td>\n",
       "    </tr>\n",
       "    <tr>\n",
       "      <th>7021</th>\n",
       "      <td>hosteleria-y-restauracion</td>\n",
       "      <td>Catalonia</td>\n",
       "      <td>0.0</td>\n",
       "      <td>1.0</td>\n",
       "      <td>0</td>\n",
       "    </tr>\n",
       "  </tbody>\n",
       "</table>\n",
       "<p>7289 rows × 5 columns</p>\n",
       "</div>"
      ],
      "text/plain": [
       "                           categorySlug               region   RC  Comercio  \\\n",
       "2252               negocio-inmobiliario     Balearic_Islands  0.0       1.0   \n",
       "7648  muebles-decoracion-y-menaje-hogar            Andalusia  0.0       1.0   \n",
       "6225          hosteleria-y-restauracion               Madrid  0.0       1.0   \n",
       "5047          hosteleria-y-restauracion               Madrid  0.0       1.0   \n",
       "5048          hosteleria-y-restauracion               Madrid  0.0       1.0   \n",
       "...                                 ...                  ...  ...       ...   \n",
       "7183                    deportes-y-ocio  Valencian_Community  0.0       1.0   \n",
       "7678                    deportes-y-ocio            Andalusia  1.0       0.0   \n",
       "2939               negocio-inmobiliario            Andalusia  0.0       1.0   \n",
       "2187               negocio-inmobiliario  Valencian_Community  0.0       1.0   \n",
       "7021          hosteleria-y-restauracion            Catalonia  0.0       1.0   \n",
       "\n",
       "      sale  \n",
       "2252     0  \n",
       "7648     0  \n",
       "6225     0  \n",
       "5047     0  \n",
       "5048     0  \n",
       "...    ...  \n",
       "7183     0  \n",
       "7678     0  \n",
       "2939     0  \n",
       "2187     0  \n",
       "7021     0  \n",
       "\n",
       "[7289 rows x 5 columns]"
      ]
     },
     "execution_count": 15,
     "metadata": {},
     "output_type": "execute_result"
    }
   ],
   "source": [
    "df3"
   ]
  },
  {
   "cell_type": "markdown",
   "metadata": {},
   "source": [
    "# Feature engineering:"
   ]
  },
  {
   "cell_type": "code",
   "execution_count": 16,
   "metadata": {},
   "outputs": [],
   "source": [
    "def get_dummies(df, varlist):\n",
    "    for var in varlist:\n",
    "        df_slice = pd.get_dummies(df[var])\n",
    "        df = pd.concat([df.drop(var, axis =1), df_slice], axis =1)\n",
    "    return df"
   ]
  },
  {
   "cell_type": "code",
   "execution_count": 17,
   "metadata": {},
   "outputs": [],
   "source": [
    "categorical_list = [\"categorySlug\", \"region\"]"
   ]
  },
  {
   "cell_type": "code",
   "execution_count": 18,
   "metadata": {},
   "outputs": [],
   "source": [
    "categorical_list = [\"categorySlug\",\"region\"]\n",
    "X = df3.drop(columns='sale')\n",
    "X = get_dummies(X, categorical_list)\n",
    "y = df3['sale']\n",
    "X_train, X_test, y_train, y_test = train_test_split(X,y, test_size=0.3)"
   ]
  },
  {
   "cell_type": "code",
   "execution_count": 19,
   "metadata": {},
   "outputs": [
    {
     "data": {
      "text/plain": [
       "0    6456\n",
       "1     833\n",
       "Name: sale, dtype: int64"
      ]
     },
     "execution_count": 19,
     "metadata": {},
     "output_type": "execute_result"
    }
   ],
   "source": [
    "df3['sale'].value_counts()"
   ]
  },
  {
   "cell_type": "code",
   "execution_count": 20,
   "metadata": {},
   "outputs": [
    {
     "data": {
      "text/plain": [
       "0    4510\n",
       "1    2706\n",
       "Name: sale, dtype: int64"
      ]
     },
     "execution_count": 20,
     "metadata": {},
     "output_type": "execute_result"
    }
   ],
   "source": [
    "from imblearn.combine import SMOTEENN \n",
    "from imblearn.combine import SMOTETomek\n",
    "\n",
    "oversamp_undersamp = SMOTETomek(sampling_strategy=0.6) #default sampling strategy\n",
    "X_train_b, y_train_b = oversamp_undersamp.fit_sample(X_train, y_train)\n",
    "X_train_b.shape, y_train_b.shape\n",
    "y_train_b.value_counts()"
   ]
  },
  {
   "cell_type": "code",
   "execution_count": 21,
   "metadata": {},
   "outputs": [],
   "source": [
    "model = svm.SVC()"
   ]
  },
  {
   "cell_type": "code",
   "execution_count": 24,
   "metadata": {},
   "outputs": [],
   "source": [
    "param_grid = {'C':[1,10,100],'gamma':[1,0.1,0.001,], 'kernel':['linear','rbf']}"
   ]
  },
  {
   "cell_type": "code",
   "execution_count": 25,
   "metadata": {},
   "outputs": [],
   "source": [
    "grid = GridSearchCV(SVC(),param_grid,refit = True, verbose=2)"
   ]
  },
  {
   "cell_type": "code",
   "execution_count": 36,
   "metadata": {},
   "outputs": [
    {
     "name": "stdout",
     "output_type": "stream",
     "text": [
      "Fitting 5 folds for each of 18 candidates, totalling 90 fits\n",
      "[CV] C=1, gamma=1, kernel=linear .....................................\n"
     ]
    },
    {
     "name": "stderr",
     "output_type": "stream",
     "text": [
      "[Parallel(n_jobs=1)]: Using backend SequentialBackend with 1 concurrent workers.\n"
     ]
    },
    {
     "name": "stdout",
     "output_type": "stream",
     "text": [
      "[CV] ...................... C=1, gamma=1, kernel=linear, total=   1.2s\n",
      "[CV] C=1, gamma=1, kernel=linear .....................................\n"
     ]
    },
    {
     "name": "stderr",
     "output_type": "stream",
     "text": [
      "[Parallel(n_jobs=1)]: Done   1 out of   1 | elapsed:    1.1s remaining:    0.0s\n"
     ]
    },
    {
     "name": "stdout",
     "output_type": "stream",
     "text": [
      "[CV] ...................... C=1, gamma=1, kernel=linear, total=   1.3s\n",
      "[CV] C=1, gamma=1, kernel=linear .....................................\n",
      "[CV] ...................... C=1, gamma=1, kernel=linear, total=   1.3s\n",
      "[CV] C=1, gamma=1, kernel=linear .....................................\n",
      "[CV] ...................... C=1, gamma=1, kernel=linear, total=   1.4s\n",
      "[CV] C=1, gamma=1, kernel=linear .....................................\n",
      "[CV] ...................... C=1, gamma=1, kernel=linear, total=   1.2s\n",
      "[CV] C=1, gamma=1, kernel=rbf ........................................\n",
      "[CV] ......................... C=1, gamma=1, kernel=rbf, total=   1.6s\n",
      "[CV] C=1, gamma=1, kernel=rbf ........................................\n",
      "[CV] ......................... C=1, gamma=1, kernel=rbf, total=   2.1s\n",
      "[CV] C=1, gamma=1, kernel=rbf ........................................\n",
      "[CV] ......................... C=1, gamma=1, kernel=rbf, total=   1.7s\n",
      "[CV] C=1, gamma=1, kernel=rbf ........................................\n",
      "[CV] ......................... C=1, gamma=1, kernel=rbf, total=   1.7s\n",
      "[CV] C=1, gamma=1, kernel=rbf ........................................\n",
      "[CV] ......................... C=1, gamma=1, kernel=rbf, total=   1.9s\n",
      "[CV] C=1, gamma=0.1, kernel=linear ...................................\n",
      "[CV] .................... C=1, gamma=0.1, kernel=linear, total=   1.2s\n",
      "[CV] C=1, gamma=0.1, kernel=linear ...................................\n",
      "[CV] .................... C=1, gamma=0.1, kernel=linear, total=   1.3s\n",
      "[CV] C=1, gamma=0.1, kernel=linear ...................................\n",
      "[CV] .................... C=1, gamma=0.1, kernel=linear, total=   1.4s\n",
      "[CV] C=1, gamma=0.1, kernel=linear ...................................\n",
      "[CV] .................... C=1, gamma=0.1, kernel=linear, total=   1.4s\n",
      "[CV] C=1, gamma=0.1, kernel=linear ...................................\n",
      "[CV] .................... C=1, gamma=0.1, kernel=linear, total=   1.3s\n",
      "[CV] C=1, gamma=0.1, kernel=rbf ......................................\n",
      "[CV] ....................... C=1, gamma=0.1, kernel=rbf, total=   1.9s\n",
      "[CV] C=1, gamma=0.1, kernel=rbf ......................................\n",
      "[CV] ....................... C=1, gamma=0.1, kernel=rbf, total=   2.2s\n",
      "[CV] C=1, gamma=0.1, kernel=rbf ......................................\n",
      "[CV] ....................... C=1, gamma=0.1, kernel=rbf, total=   2.1s\n",
      "[CV] C=1, gamma=0.1, kernel=rbf ......................................\n",
      "[CV] ....................... C=1, gamma=0.1, kernel=rbf, total=   2.0s\n",
      "[CV] C=1, gamma=0.1, kernel=rbf ......................................\n",
      "[CV] ....................... C=1, gamma=0.1, kernel=rbf, total=   2.1s\n",
      "[CV] C=1, gamma=0.001, kernel=linear .................................\n",
      "[CV] .................. C=1, gamma=0.001, kernel=linear, total=   1.2s\n",
      "[CV] C=1, gamma=0.001, kernel=linear .................................\n",
      "[CV] .................. C=1, gamma=0.001, kernel=linear, total=   1.3s\n",
      "[CV] C=1, gamma=0.001, kernel=linear .................................\n",
      "[CV] .................. C=1, gamma=0.001, kernel=linear, total=   1.2s\n",
      "[CV] C=1, gamma=0.001, kernel=linear .................................\n",
      "[CV] .................. C=1, gamma=0.001, kernel=linear, total=   1.5s\n",
      "[CV] C=1, gamma=0.001, kernel=linear .................................\n",
      "[CV] .................. C=1, gamma=0.001, kernel=linear, total=   2.2s\n",
      "[CV] C=1, gamma=0.001, kernel=rbf ....................................\n",
      "[CV] ..................... C=1, gamma=0.001, kernel=rbf, total=   4.1s\n",
      "[CV] C=1, gamma=0.001, kernel=rbf ....................................\n",
      "[CV] ..................... C=1, gamma=0.001, kernel=rbf, total=   4.2s\n",
      "[CV] C=1, gamma=0.001, kernel=rbf ....................................\n",
      "[CV] ..................... C=1, gamma=0.001, kernel=rbf, total=   2.2s\n",
      "[CV] C=1, gamma=0.001, kernel=rbf ....................................\n",
      "[CV] ..................... C=1, gamma=0.001, kernel=rbf, total=   2.4s\n",
      "[CV] C=1, gamma=0.001, kernel=rbf ....................................\n",
      "[CV] ..................... C=1, gamma=0.001, kernel=rbf, total=   3.2s\n",
      "[CV] C=10, gamma=1, kernel=linear ....................................\n",
      "[CV] ..................... C=10, gamma=1, kernel=linear, total=   1.7s\n",
      "[CV] C=10, gamma=1, kernel=linear ....................................\n",
      "[CV] ..................... C=10, gamma=1, kernel=linear, total=   1.6s\n",
      "[CV] C=10, gamma=1, kernel=linear ....................................\n",
      "[CV] ..................... C=10, gamma=1, kernel=linear, total=   1.6s\n",
      "[CV] C=10, gamma=1, kernel=linear ....................................\n",
      "[CV] ..................... C=10, gamma=1, kernel=linear, total=   1.6s\n",
      "[CV] C=10, gamma=1, kernel=linear ....................................\n",
      "[CV] ..................... C=10, gamma=1, kernel=linear, total=   1.6s\n",
      "[CV] C=10, gamma=1, kernel=rbf .......................................\n",
      "[CV] ........................ C=10, gamma=1, kernel=rbf, total=   1.7s\n",
      "[CV] C=10, gamma=1, kernel=rbf .......................................\n",
      "[CV] ........................ C=10, gamma=1, kernel=rbf, total=   2.0s\n",
      "[CV] C=10, gamma=1, kernel=rbf .......................................\n",
      "[CV] ........................ C=10, gamma=1, kernel=rbf, total=   2.1s\n",
      "[CV] C=10, gamma=1, kernel=rbf .......................................\n",
      "[CV] ........................ C=10, gamma=1, kernel=rbf, total=   1.9s\n",
      "[CV] C=10, gamma=1, kernel=rbf .......................................\n",
      "[CV] ........................ C=10, gamma=1, kernel=rbf, total=   1.9s\n",
      "[CV] C=10, gamma=0.1, kernel=linear ..................................\n",
      "[CV] ................... C=10, gamma=0.1, kernel=linear, total=   1.5s\n",
      "[CV] C=10, gamma=0.1, kernel=linear ..................................\n",
      "[CV] ................... C=10, gamma=0.1, kernel=linear, total=   1.5s\n",
      "[CV] C=10, gamma=0.1, kernel=linear ..................................\n",
      "[CV] ................... C=10, gamma=0.1, kernel=linear, total=   1.7s\n",
      "[CV] C=10, gamma=0.1, kernel=linear ..................................\n",
      "[CV] ................... C=10, gamma=0.1, kernel=linear, total=   1.8s\n",
      "[CV] C=10, gamma=0.1, kernel=linear ..................................\n",
      "[CV] ................... C=10, gamma=0.1, kernel=linear, total=   1.9s\n",
      "[CV] C=10, gamma=0.1, kernel=rbf .....................................\n",
      "[CV] ...................... C=10, gamma=0.1, kernel=rbf, total=   2.0s\n",
      "[CV] C=10, gamma=0.1, kernel=rbf .....................................\n",
      "[CV] ...................... C=10, gamma=0.1, kernel=rbf, total=   2.4s\n",
      "[CV] C=10, gamma=0.1, kernel=rbf .....................................\n",
      "[CV] ...................... C=10, gamma=0.1, kernel=rbf, total=   2.0s\n",
      "[CV] C=10, gamma=0.1, kernel=rbf .....................................\n",
      "[CV] ...................... C=10, gamma=0.1, kernel=rbf, total=   1.9s\n",
      "[CV] C=10, gamma=0.1, kernel=rbf .....................................\n",
      "[CV] ...................... C=10, gamma=0.1, kernel=rbf, total=   1.9s\n",
      "[CV] C=10, gamma=0.001, kernel=linear ................................\n",
      "[CV] ................. C=10, gamma=0.001, kernel=linear, total=   1.3s\n",
      "[CV] C=10, gamma=0.001, kernel=linear ................................\n",
      "[CV] ................. C=10, gamma=0.001, kernel=linear, total=   1.4s\n",
      "[CV] C=10, gamma=0.001, kernel=linear ................................\n",
      "[CV] ................. C=10, gamma=0.001, kernel=linear, total=   1.6s\n",
      "[CV] C=10, gamma=0.001, kernel=linear ................................\n",
      "[CV] ................. C=10, gamma=0.001, kernel=linear, total=   1.4s\n",
      "[CV] C=10, gamma=0.001, kernel=linear ................................\n",
      "[CV] ................. C=10, gamma=0.001, kernel=linear, total=   1.4s\n",
      "[CV] C=10, gamma=0.001, kernel=rbf ...................................\n",
      "[CV] .................... C=10, gamma=0.001, kernel=rbf, total=   2.5s\n",
      "[CV] C=10, gamma=0.001, kernel=rbf ...................................\n",
      "[CV] .................... C=10, gamma=0.001, kernel=rbf, total=   2.1s\n",
      "[CV] C=10, gamma=0.001, kernel=rbf ...................................\n",
      "[CV] .................... C=10, gamma=0.001, kernel=rbf, total=   2.1s\n",
      "[CV] C=10, gamma=0.001, kernel=rbf ...................................\n",
      "[CV] .................... C=10, gamma=0.001, kernel=rbf, total=   2.2s\n",
      "[CV] C=10, gamma=0.001, kernel=rbf ...................................\n"
     ]
    },
    {
     "name": "stdout",
     "output_type": "stream",
     "text": [
      "[CV] .................... C=10, gamma=0.001, kernel=rbf, total=   2.0s\n",
      "[CV] C=100, gamma=1, kernel=linear ...................................\n",
      "[CV] .................... C=100, gamma=1, kernel=linear, total=   2.3s\n",
      "[CV] C=100, gamma=1, kernel=linear ...................................\n",
      "[CV] .................... C=100, gamma=1, kernel=linear, total=   2.4s\n",
      "[CV] C=100, gamma=1, kernel=linear ...................................\n",
      "[CV] .................... C=100, gamma=1, kernel=linear, total=   2.2s\n",
      "[CV] C=100, gamma=1, kernel=linear ...................................\n",
      "[CV] .................... C=100, gamma=1, kernel=linear, total=   2.1s\n",
      "[CV] C=100, gamma=1, kernel=linear ...................................\n",
      "[CV] .................... C=100, gamma=1, kernel=linear, total=   2.3s\n",
      "[CV] C=100, gamma=1, kernel=rbf ......................................\n",
      "[CV] ....................... C=100, gamma=1, kernel=rbf, total=   1.8s\n",
      "[CV] C=100, gamma=1, kernel=rbf ......................................\n",
      "[CV] ....................... C=100, gamma=1, kernel=rbf, total=   1.8s\n",
      "[CV] C=100, gamma=1, kernel=rbf ......................................\n",
      "[CV] ....................... C=100, gamma=1, kernel=rbf, total=   1.8s\n",
      "[CV] C=100, gamma=1, kernel=rbf ......................................\n",
      "[CV] ....................... C=100, gamma=1, kernel=rbf, total=   2.1s\n",
      "[CV] C=100, gamma=1, kernel=rbf ......................................\n",
      "[CV] ....................... C=100, gamma=1, kernel=rbf, total=   2.4s\n",
      "[CV] C=100, gamma=0.1, kernel=linear .................................\n",
      "[CV] .................. C=100, gamma=0.1, kernel=linear, total=   2.4s\n",
      "[CV] C=100, gamma=0.1, kernel=linear .................................\n",
      "[CV] .................. C=100, gamma=0.1, kernel=linear, total=   2.4s\n",
      "[CV] C=100, gamma=0.1, kernel=linear .................................\n",
      "[CV] .................. C=100, gamma=0.1, kernel=linear, total=   2.2s\n",
      "[CV] C=100, gamma=0.1, kernel=linear .................................\n",
      "[CV] .................. C=100, gamma=0.1, kernel=linear, total=   2.3s\n",
      "[CV] C=100, gamma=0.1, kernel=linear .................................\n",
      "[CV] .................. C=100, gamma=0.1, kernel=linear, total=   2.3s\n",
      "[CV] C=100, gamma=0.1, kernel=rbf ....................................\n",
      "[CV] ..................... C=100, gamma=0.1, kernel=rbf, total=   2.0s\n",
      "[CV] C=100, gamma=0.1, kernel=rbf ....................................\n",
      "[CV] ..................... C=100, gamma=0.1, kernel=rbf, total=   1.9s\n",
      "[CV] C=100, gamma=0.1, kernel=rbf ....................................\n",
      "[CV] ..................... C=100, gamma=0.1, kernel=rbf, total=   1.9s\n",
      "[CV] C=100, gamma=0.1, kernel=rbf ....................................\n",
      "[CV] ..................... C=100, gamma=0.1, kernel=rbf, total=   1.9s\n",
      "[CV] C=100, gamma=0.1, kernel=rbf ....................................\n",
      "[CV] ..................... C=100, gamma=0.1, kernel=rbf, total=   1.8s\n",
      "[CV] C=100, gamma=0.001, kernel=linear ...............................\n",
      "[CV] ................ C=100, gamma=0.001, kernel=linear, total=   2.1s\n",
      "[CV] C=100, gamma=0.001, kernel=linear ...............................\n",
      "[CV] ................ C=100, gamma=0.001, kernel=linear, total=   2.1s\n",
      "[CV] C=100, gamma=0.001, kernel=linear ...............................\n",
      "[CV] ................ C=100, gamma=0.001, kernel=linear, total=   2.1s\n",
      "[CV] C=100, gamma=0.001, kernel=linear ...............................\n",
      "[CV] ................ C=100, gamma=0.001, kernel=linear, total=   2.5s\n",
      "[CV] C=100, gamma=0.001, kernel=linear ...............................\n",
      "[CV] ................ C=100, gamma=0.001, kernel=linear, total=   2.3s\n",
      "[CV] C=100, gamma=0.001, kernel=rbf ..................................\n",
      "[CV] ................... C=100, gamma=0.001, kernel=rbf, total=   2.6s\n",
      "[CV] C=100, gamma=0.001, kernel=rbf ..................................\n",
      "[CV] ................... C=100, gamma=0.001, kernel=rbf, total=   2.4s\n",
      "[CV] C=100, gamma=0.001, kernel=rbf ..................................\n",
      "[CV] ................... C=100, gamma=0.001, kernel=rbf, total=   2.6s\n",
      "[CV] C=100, gamma=0.001, kernel=rbf ..................................\n",
      "[CV] ................... C=100, gamma=0.001, kernel=rbf, total=   2.4s\n",
      "[CV] C=100, gamma=0.001, kernel=rbf ..................................\n",
      "[CV] ................... C=100, gamma=0.001, kernel=rbf, total=   2.7s\n"
     ]
    },
    {
     "name": "stderr",
     "output_type": "stream",
     "text": [
      "[Parallel(n_jobs=1)]: Done  90 out of  90 | elapsed:  2.9min finished\n"
     ]
    },
    {
     "data": {
      "text/plain": [
       "GridSearchCV(estimator=SVC(),\n",
       "             param_grid={'C': [1, 10, 100], 'gamma': [1, 0.1, 0.001],\n",
       "                         'kernel': ['linear', 'rbf']},\n",
       "             verbose=2)"
      ]
     },
     "execution_count": 36,
     "metadata": {},
     "output_type": "execute_result"
    }
   ],
   "source": [
    "grid.fit(X_train_b,y_train_b)"
   ]
  },
  {
   "cell_type": "code",
   "execution_count": 39,
   "metadata": {},
   "outputs": [],
   "source": [
    "grid.best_params_={'C': 10, 'gamma': 0.1, 'kernel': 'rbf'}"
   ]
  },
  {
   "cell_type": "code",
   "execution_count": 41,
   "metadata": {},
   "outputs": [
    {
     "data": {
      "text/plain": [
       "0.8747142203932328"
      ]
     },
     "execution_count": 41,
     "metadata": {},
     "output_type": "execute_result"
    }
   ],
   "source": [
    "X = df3.drop(columns='sale')\n",
    "X = get_dummies(X, categorical_list)\n",
    "y = df3['sale']\n",
    "X_train_b, X_test, y_train_b, y_test = train_test_split(X,y, test_size=0.3)\n",
    "clf = svm.SVC(C= 1, gamma= 1, kernel= 'rbf')\n",
    "clf.fit(X_train_b, y_train_b)\n",
    "clf.score(X_test, y_test)\n"
   ]
  },
  {
   "cell_type": "code",
   "execution_count": 42,
   "metadata": {},
   "outputs": [],
   "source": [
    "prediction = clf.predict(X_test)"
   ]
  },
  {
   "cell_type": "code",
   "execution_count": 43,
   "metadata": {},
   "outputs": [
    {
     "name": "stdout",
     "output_type": "stream",
     "text": [
      "              precision    recall  f1-score   support\n",
      "\n",
      "           0       0.88      1.00      0.93      1914\n",
      "           1       0.00      0.00      0.00       273\n",
      "\n",
      "    accuracy                           0.87      2187\n",
      "   macro avg       0.44      0.50      0.47      2187\n",
      "weighted avg       0.77      0.87      0.82      2187\n",
      "\n",
      "[[1913    1]\n",
      " [ 273    0]]\n"
     ]
    }
   ],
   "source": [
    "print(classification_report(y_test,prediction))\n",
    "print(confusion_matrix(y_test, prediction))"
   ]
  },
  {
   "cell_type": "code",
   "execution_count": 33,
   "metadata": {},
   "outputs": [
    {
     "ename": "NameError",
     "evalue": "name 'rf_optimal' is not defined",
     "output_type": "error",
     "traceback": [
      "\u001b[1;31m---------------------------------------------------------------------------\u001b[0m",
      "\u001b[1;31mNameError\u001b[0m                                 Traceback (most recent call last)",
      "\u001b[1;32m<ipython-input-33-2eb0ded8ace5>\u001b[0m in \u001b[0;36m<module>\u001b[1;34m\u001b[0m\n\u001b[0;32m      2\u001b[0m \u001b[1;32mfrom\u001b[0m \u001b[0msklearn\u001b[0m\u001b[1;33m.\u001b[0m\u001b[0mmetrics\u001b[0m \u001b[1;32mimport\u001b[0m \u001b[0mclassification_report\u001b[0m\u001b[1;33m\u001b[0m\u001b[1;33m\u001b[0m\u001b[0m\n\u001b[0;32m      3\u001b[0m \u001b[1;33m\u001b[0m\u001b[0m\n\u001b[1;32m----> 4\u001b[1;33m \u001b[0mpredictions_train\u001b[0m \u001b[1;33m=\u001b[0m \u001b[0mrf_optimal\u001b[0m\u001b[1;33m.\u001b[0m\u001b[0mpredict\u001b[0m\u001b[1;33m(\u001b[0m\u001b[0mX_train_b\u001b[0m\u001b[1;33m)\u001b[0m\u001b[1;33m\u001b[0m\u001b[1;33m\u001b[0m\u001b[0m\n\u001b[0m\u001b[0;32m      5\u001b[0m \u001b[0mpredictions_test\u001b[0m \u001b[1;33m=\u001b[0m \u001b[0mrf_optimal\u001b[0m\u001b[1;33m.\u001b[0m\u001b[0mpredict\u001b[0m\u001b[1;33m(\u001b[0m\u001b[0mX_test\u001b[0m\u001b[1;33m)\u001b[0m\u001b[1;33m\u001b[0m\u001b[1;33m\u001b[0m\u001b[0m\n\u001b[0;32m      6\u001b[0m \u001b[0mprint\u001b[0m\u001b[1;33m(\u001b[0m\u001b[0mclassification_report\u001b[0m\u001b[1;33m(\u001b[0m\u001b[0my_test\u001b[0m\u001b[1;33m,\u001b[0m \u001b[0mpredictions_test\u001b[0m\u001b[1;33m)\u001b[0m\u001b[1;33m)\u001b[0m\u001b[1;33m\u001b[0m\u001b[1;33m\u001b[0m\u001b[0m\n",
      "\u001b[1;31mNameError\u001b[0m: name 'rf_optimal' is not defined"
     ]
    }
   ],
   "source": [
    "from sklearn.metrics import accuracy_score\n",
    "from sklearn.metrics import classification_report\n",
    "\n",
    "predictions_train = rf_optimal.predict(X_train_b)\n",
    "predictions_test = rf_optimal.predict(X_test)\n",
    "print(classification_report(y_test, predictions_test))\n",
    "print(\"accuracy score on test:\", accuracy_score(y_test, predictions_test))\n",
    "print(\"accuracy on train:\", accuracy_score(y_train_b, predictions_train))"
   ]
  },
  {
   "cell_type": "code",
   "execution_count": 32,
   "metadata": {},
   "outputs": [
    {
     "name": "stderr",
     "output_type": "stream",
     "text": [
      "C:\\Users\\Álvaro\\anaconda3.1\\lib\\site-packages\\ipykernel_launcher.py:1: SettingWithCopyWarning: \n",
      "A value is trying to be set on a copy of a slice from a DataFrame.\n",
      "Try using .loc[row_indexer,col_indexer] = value instead\n",
      "\n",
      "See the caveats in the documentation: https://pandas.pydata.org/pandas-docs/stable/user_guide/indexing.html#returning-a-view-versus-a-copy\n",
      "  \"\"\"Entry point for launching an IPython kernel.\n"
     ]
    },
    {
     "data": {
      "text/html": [
       "<div>\n",
       "<style scoped>\n",
       "    .dataframe tbody tr th:only-of-type {\n",
       "        vertical-align: middle;\n",
       "    }\n",
       "\n",
       "    .dataframe tbody tr th {\n",
       "        vertical-align: top;\n",
       "    }\n",
       "\n",
       "    .dataframe thead th {\n",
       "        text-align: right;\n",
       "    }\n",
       "</style>\n",
       "<table border=\"1\" class=\"dataframe\">\n",
       "  <thead>\n",
       "    <tr style=\"text-align: right;\">\n",
       "      <th></th>\n",
       "      <th>eventTime_ay</th>\n",
       "      <th>Date</th>\n",
       "      <th>email</th>\n",
       "      <th>firstName</th>\n",
       "      <th>lastName</th>\n",
       "      <th>Sub_Categoria</th>\n",
       "      <th>campaign</th>\n",
       "      <th>medium</th>\n",
       "      <th>userId</th>\n",
       "      <th>source</th>\n",
       "      <th>...</th>\n",
       "      <th>time_diff_ac_vg</th>\n",
       "      <th>time_diff_vg_ff</th>\n",
       "      <th>time_diff_ff_fd</th>\n",
       "      <th>time_diff_fd_pm</th>\n",
       "      <th>city</th>\n",
       "      <th>cityId</th>\n",
       "      <th>region</th>\n",
       "      <th>regionId</th>\n",
       "      <th>sessions</th>\n",
       "      <th>Month</th>\n",
       "    </tr>\n",
       "  </thead>\n",
       "  <tbody>\n",
       "    <tr>\n",
       "      <th>0</th>\n",
       "      <td>2020-05-09 10:19:12</td>\n",
       "      <td>2020-05-09</td>\n",
       "      <td>eduardoperez@seincomobiliario.com</td>\n",
       "      <td>EDUARDO</td>\n",
       "      <td>PEREZ</td>\n",
       "      <td>disenador-de-muebles</td>\n",
       "      <td>NaN</td>\n",
       "      <td>NaN</td>\n",
       "      <td>083e8b2f-af6a-46b4-a9b9-4f79c1a32cf1</td>\n",
       "      <td>NaN</td>\n",
       "      <td>...</td>\n",
       "      <td>NaN</td>\n",
       "      <td>0 days 00:00:03</td>\n",
       "      <td>NaN</td>\n",
       "      <td>NaN</td>\n",
       "      <td>Barcelona</td>\n",
       "      <td>1005424</td>\n",
       "      <td>Catalonia</td>\n",
       "      <td>20278</td>\n",
       "      <td>2.0</td>\n",
       "      <td>5</td>\n",
       "    </tr>\n",
       "    <tr>\n",
       "      <th>1</th>\n",
       "      <td>2020-04-12 14:50:10</td>\n",
       "      <td>2020-04-12</td>\n",
       "      <td>alexvonder@hotmail.com</td>\n",
       "      <td>Alexandra</td>\n",
       "      <td>Perez</td>\n",
       "      <td>chofer</td>\n",
       "      <td>01_España_Genéricas</td>\n",
       "      <td>ppc</td>\n",
       "      <td>0feedfe0-5452-434c-8a70-845fa3fd638a</td>\n",
       "      <td>adwords</td>\n",
       "      <td>...</td>\n",
       "      <td>NaN</td>\n",
       "      <td>0 days 00:00:02</td>\n",
       "      <td>NaN</td>\n",
       "      <td>NaN</td>\n",
       "      <td>(not set)</td>\n",
       "      <td>(not set)</td>\n",
       "      <td>Balearic_Islands</td>\n",
       "      <td>21387</td>\n",
       "      <td>6.0</td>\n",
       "      <td>4</td>\n",
       "    </tr>\n",
       "    <tr>\n",
       "      <th>2</th>\n",
       "      <td>2020-11-08 18:09:23</td>\n",
       "      <td>2020-11-08</td>\n",
       "      <td>Evo@gmail.com</td>\n",
       "      <td>Juanjo</td>\n",
       "      <td>Akze</td>\n",
       "      <td>fotoperiodista</td>\n",
       "      <td>10430315940</td>\n",
       "      <td>cpc</td>\n",
       "      <td>18bb05eb-d592-4459-a682-f622afb7208c</td>\n",
       "      <td>adwords</td>\n",
       "      <td>...</td>\n",
       "      <td>NaN</td>\n",
       "      <td>NaN</td>\n",
       "      <td>NaN</td>\n",
       "      <td>NaN</td>\n",
       "      <td>Mollet del Valles</td>\n",
       "      <td>1005431</td>\n",
       "      <td>Catalonia</td>\n",
       "      <td>20278</td>\n",
       "      <td>2.0</td>\n",
       "      <td>11</td>\n",
       "    </tr>\n",
       "    <tr>\n",
       "      <th>3</th>\n",
       "      <td>2020-08-25 15:18:38</td>\n",
       "      <td>2020-08-25</td>\n",
       "      <td>cesardelacalle@grupoccs.es</td>\n",
       "      <td>cesar fernando</td>\n",
       "      <td>de la calle verde</td>\n",
       "      <td>conserje</td>\n",
       "      <td>10430285424</td>\n",
       "      <td>cpc</td>\n",
       "      <td>328d85a1-28b3-493d-ad17-ab58e4567357</td>\n",
       "      <td>adwords</td>\n",
       "      <td>...</td>\n",
       "      <td>NaN</td>\n",
       "      <td>NaN</td>\n",
       "      <td>NaN</td>\n",
       "      <td>NaN</td>\n",
       "      <td>Villanueva de la Canada</td>\n",
       "      <td>9049240</td>\n",
       "      <td>Madrid</td>\n",
       "      <td>9047045</td>\n",
       "      <td>1.0</td>\n",
       "      <td>8</td>\n",
       "    </tr>\n",
       "    <tr>\n",
       "      <th>4</th>\n",
       "      <td>2020-11-16 11:02:42</td>\n",
       "      <td>2020-11-16</td>\n",
       "      <td>brsbrs02@gmail.com</td>\n",
       "      <td>Bruno</td>\n",
       "      <td>RS</td>\n",
       "      <td>proyectista</td>\n",
       "      <td>10430285424</td>\n",
       "      <td>cpc</td>\n",
       "      <td>39d91a35-e406-462d-a7a5-7b2291ba8340</td>\n",
       "      <td>adwords</td>\n",
       "      <td>...</td>\n",
       "      <td>NaN</td>\n",
       "      <td>NaN</td>\n",
       "      <td>NaN</td>\n",
       "      <td>NaN</td>\n",
       "      <td>A Coruna</td>\n",
       "      <td>1005479</td>\n",
       "      <td>Galicia</td>\n",
       "      <td>20280</td>\n",
       "      <td>1.0</td>\n",
       "      <td>11</td>\n",
       "    </tr>\n",
       "    <tr>\n",
       "      <th>...</th>\n",
       "      <td>...</td>\n",
       "      <td>...</td>\n",
       "      <td>...</td>\n",
       "      <td>...</td>\n",
       "      <td>...</td>\n",
       "      <td>...</td>\n",
       "      <td>...</td>\n",
       "      <td>...</td>\n",
       "      <td>...</td>\n",
       "      <td>...</td>\n",
       "      <td>...</td>\n",
       "      <td>...</td>\n",
       "      <td>...</td>\n",
       "      <td>...</td>\n",
       "      <td>...</td>\n",
       "      <td>...</td>\n",
       "      <td>...</td>\n",
       "      <td>...</td>\n",
       "      <td>...</td>\n",
       "      <td>...</td>\n",
       "      <td>...</td>\n",
       "    </tr>\n",
       "    <tr>\n",
       "      <th>8057</th>\n",
       "      <td>2020-07-05 11:44:34</td>\n",
       "      <td>2020-07-05</td>\n",
       "      <td>kk@hotmail.com</td>\n",
       "      <td>Santi</td>\n",
       "      <td>Mirlo</td>\n",
       "      <td>entrenador-o-monitor-deportivo</td>\n",
       "      <td>NaN</td>\n",
       "      <td>NaN</td>\n",
       "      <td>7a6ca821-1e99-4156-bb35-9d904828b26b</td>\n",
       "      <td>NaN</td>\n",
       "      <td>...</td>\n",
       "      <td>NaN</td>\n",
       "      <td>0 days 00:00:03</td>\n",
       "      <td>NaN</td>\n",
       "      <td>NaN</td>\n",
       "      <td>Castellon de la Plana</td>\n",
       "      <td>1005539</td>\n",
       "      <td>Valencian_Community</td>\n",
       "      <td>21388</td>\n",
       "      <td>1.0</td>\n",
       "      <td>7</td>\n",
       "    </tr>\n",
       "    <tr>\n",
       "      <th>8058</th>\n",
       "      <td>2020-08-29 08:45:46</td>\n",
       "      <td>2020-08-29</td>\n",
       "      <td>sarah@slyne.com</td>\n",
       "      <td>Sarah</td>\n",
       "      <td>Slyne</td>\n",
       "      <td>entrenador-o-monitor-deportivo</td>\n",
       "      <td>NaN</td>\n",
       "      <td>NaN</td>\n",
       "      <td>ab772667-56c1-4e2a-b938-ae6e4e3980e3</td>\n",
       "      <td>NaN</td>\n",
       "      <td>...</td>\n",
       "      <td>NaN</td>\n",
       "      <td>NaN</td>\n",
       "      <td>NaN</td>\n",
       "      <td>NaN</td>\n",
       "      <td>Seville</td>\n",
       "      <td>1005421</td>\n",
       "      <td>Andalusia</td>\n",
       "      <td>20269</td>\n",
       "      <td>2.0</td>\n",
       "      <td>8</td>\n",
       "    </tr>\n",
       "    <tr>\n",
       "      <th>8059</th>\n",
       "      <td>2020-06-04 09:03:30</td>\n",
       "      <td>2020-06-04</td>\n",
       "      <td>saraculebras@gmail.com</td>\n",
       "      <td>Sara</td>\n",
       "      <td>Culebras Yagüe</td>\n",
       "      <td>entrenador-o-monitor-deportivo</td>\n",
       "      <td>NaN</td>\n",
       "      <td>NaN</td>\n",
       "      <td>dc059f05-6e2a-4cb6-9436-826b38d87ce9</td>\n",
       "      <td>NaN</td>\n",
       "      <td>...</td>\n",
       "      <td>NaN</td>\n",
       "      <td>0 days 00:00:03</td>\n",
       "      <td>NaN</td>\n",
       "      <td>NaN</td>\n",
       "      <td>Torrejon de Ardoz</td>\n",
       "      <td>1005496</td>\n",
       "      <td>Madrid</td>\n",
       "      <td>9047045</td>\n",
       "      <td>1.0</td>\n",
       "      <td>6</td>\n",
       "    </tr>\n",
       "    <tr>\n",
       "      <th>8060</th>\n",
       "      <td>2020-09-30 16:03:25</td>\n",
       "      <td>2020-09-30</td>\n",
       "      <td>blancopris@gmail.com</td>\n",
       "      <td>Priscila</td>\n",
       "      <td>Abbona</td>\n",
       "      <td>entrenador-o-monitor-deportivo</td>\n",
       "      <td>RC_pillarpage_nurturing</td>\n",
       "      <td>email</td>\n",
       "      <td>e2af6a50-4e9e-42c0-a5fc-784141160d31</td>\n",
       "      <td>hs_automation</td>\n",
       "      <td>...</td>\n",
       "      <td>NaN</td>\n",
       "      <td>0 days 00:00:04</td>\n",
       "      <td>NaN</td>\n",
       "      <td>NaN</td>\n",
       "      <td>Pamplona</td>\n",
       "      <td>1005503</td>\n",
       "      <td>Navarre</td>\n",
       "      <td>9047051</td>\n",
       "      <td>1.0</td>\n",
       "      <td>9</td>\n",
       "    </tr>\n",
       "    <tr>\n",
       "      <th>8061</th>\n",
       "      <td>2020-09-12 07:44:00</td>\n",
       "      <td>2020-09-12</td>\n",
       "      <td>sharktvdavid@gmail.com</td>\n",
       "      <td>David</td>\n",
       "      <td>Jimenez Ortega</td>\n",
       "      <td>entrenador-o-monitor-deportivo</td>\n",
       "      <td>10430285424</td>\n",
       "      <td>cpc</td>\n",
       "      <td>aa27f98a-4b31-45be-9cb0-f2d5566a978c</td>\n",
       "      <td>adwords</td>\n",
       "      <td>...</td>\n",
       "      <td>NaN</td>\n",
       "      <td>0 days 00:00:08</td>\n",
       "      <td>0 days 00:04:05</td>\n",
       "      <td>NaN</td>\n",
       "      <td>Palma</td>\n",
       "      <td>1005517</td>\n",
       "      <td>Balearic_Islands</td>\n",
       "      <td>20287</td>\n",
       "      <td>3.0</td>\n",
       "      <td>9</td>\n",
       "    </tr>\n",
       "  </tbody>\n",
       "</table>\n",
       "<p>7977 rows × 107 columns</p>\n",
       "</div>"
      ],
      "text/plain": [
       "             eventTime_ay        Date                              email  \\\n",
       "0     2020-05-09 10:19:12  2020-05-09  eduardoperez@seincomobiliario.com   \n",
       "1     2020-04-12 14:50:10  2020-04-12             alexvonder@hotmail.com   \n",
       "2     2020-11-08 18:09:23  2020-11-08                      Evo@gmail.com   \n",
       "3     2020-08-25 15:18:38  2020-08-25         cesardelacalle@grupoccs.es   \n",
       "4     2020-11-16 11:02:42  2020-11-16                 brsbrs02@gmail.com   \n",
       "...                   ...         ...                                ...   \n",
       "8057  2020-07-05 11:44:34  2020-07-05                     kk@hotmail.com   \n",
       "8058  2020-08-29 08:45:46  2020-08-29                    sarah@slyne.com   \n",
       "8059  2020-06-04 09:03:30  2020-06-04             saraculebras@gmail.com   \n",
       "8060  2020-09-30 16:03:25  2020-09-30               blancopris@gmail.com   \n",
       "8061  2020-09-12 07:44:00  2020-09-12             sharktvdavid@gmail.com   \n",
       "\n",
       "           firstName           lastName                   Sub_Categoria  \\\n",
       "0            EDUARDO              PEREZ            disenador-de-muebles   \n",
       "1          Alexandra              Perez                          chofer   \n",
       "2             Juanjo               Akze                  fotoperiodista   \n",
       "3     cesar fernando  de la calle verde                        conserje   \n",
       "4              Bruno                 RS                     proyectista   \n",
       "...              ...                ...                             ...   \n",
       "8057           Santi              Mirlo  entrenador-o-monitor-deportivo   \n",
       "8058           Sarah              Slyne  entrenador-o-monitor-deportivo   \n",
       "8059            Sara     Culebras Yagüe  entrenador-o-monitor-deportivo   \n",
       "8060        Priscila             Abbona  entrenador-o-monitor-deportivo   \n",
       "8061           David     Jimenez Ortega  entrenador-o-monitor-deportivo   \n",
       "\n",
       "                     campaign medium                                userId  \\\n",
       "0                         NaN    NaN  083e8b2f-af6a-46b4-a9b9-4f79c1a32cf1   \n",
       "1         01_España_Genéricas    ppc  0feedfe0-5452-434c-8a70-845fa3fd638a   \n",
       "2                 10430315940    cpc  18bb05eb-d592-4459-a682-f622afb7208c   \n",
       "3                 10430285424    cpc  328d85a1-28b3-493d-ad17-ab58e4567357   \n",
       "4                 10430285424    cpc  39d91a35-e406-462d-a7a5-7b2291ba8340   \n",
       "...                       ...    ...                                   ...   \n",
       "8057                      NaN    NaN  7a6ca821-1e99-4156-bb35-9d904828b26b   \n",
       "8058                      NaN    NaN  ab772667-56c1-4e2a-b938-ae6e4e3980e3   \n",
       "8059                      NaN    NaN  dc059f05-6e2a-4cb6-9436-826b38d87ce9   \n",
       "8060  RC_pillarpage_nurturing  email  e2af6a50-4e9e-42c0-a5fc-784141160d31   \n",
       "8061              10430285424    cpc  aa27f98a-4b31-45be-9cb0-f2d5566a978c   \n",
       "\n",
       "             source  ...  time_diff_ac_vg  time_diff_vg_ff  time_diff_ff_fd  \\\n",
       "0               NaN  ...              NaN  0 days 00:00:03              NaN   \n",
       "1           adwords  ...              NaN  0 days 00:00:02              NaN   \n",
       "2           adwords  ...              NaN              NaN              NaN   \n",
       "3           adwords  ...              NaN              NaN              NaN   \n",
       "4           adwords  ...              NaN              NaN              NaN   \n",
       "...             ...  ...              ...              ...              ...   \n",
       "8057            NaN  ...              NaN  0 days 00:00:03              NaN   \n",
       "8058            NaN  ...              NaN              NaN              NaN   \n",
       "8059            NaN  ...              NaN  0 days 00:00:03              NaN   \n",
       "8060  hs_automation  ...              NaN  0 days 00:00:04              NaN   \n",
       "8061        adwords  ...              NaN  0 days 00:00:08  0 days 00:04:05   \n",
       "\n",
       "     time_diff_fd_pm                     city     cityId               region  \\\n",
       "0                NaN                Barcelona    1005424            Catalonia   \n",
       "1                NaN                (not set)  (not set)     Balearic_Islands   \n",
       "2                NaN        Mollet del Valles    1005431            Catalonia   \n",
       "3                NaN  Villanueva de la Canada    9049240               Madrid   \n",
       "4                NaN                 A Coruna    1005479              Galicia   \n",
       "...              ...                      ...        ...                  ...   \n",
       "8057             NaN    Castellon de la Plana    1005539  Valencian_Community   \n",
       "8058             NaN                  Seville    1005421            Andalusia   \n",
       "8059             NaN        Torrejon de Ardoz    1005496               Madrid   \n",
       "8060             NaN                 Pamplona    1005503              Navarre   \n",
       "8061             NaN                    Palma    1005517     Balearic_Islands   \n",
       "\n",
       "      regionId  sessions Month  \n",
       "0        20278       2.0     5  \n",
       "1        21387       6.0     4  \n",
       "2        20278       2.0    11  \n",
       "3      9047045       1.0     8  \n",
       "4        20280       1.0    11  \n",
       "...        ...       ...   ...  \n",
       "8057     21388       1.0     7  \n",
       "8058     20269       2.0     8  \n",
       "8059   9047045       1.0     6  \n",
       "8060   9047051       1.0     9  \n",
       "8061     20287       3.0     9  \n",
       "\n",
       "[7977 rows x 107 columns]"
      ]
     },
     "execution_count": 32,
     "metadata": {},
     "output_type": "execute_result"
    }
   ],
   "source": [
    "df['Month'] = pd.DatetimeIndex(df['Date']).month"
   ]
  },
  {
   "cell_type": "markdown",
   "metadata": {},
   "source": [
    "We include month as a variable"
   ]
  },
  {
   "cell_type": "code",
   "execution_count": 40,
   "metadata": {},
   "outputs": [
    {
     "data": {
      "text/html": [
       "<div>\n",
       "<style scoped>\n",
       "    .dataframe tbody tr th:only-of-type {\n",
       "        vertical-align: middle;\n",
       "    }\n",
       "\n",
       "    .dataframe tbody tr th {\n",
       "        vertical-align: top;\n",
       "    }\n",
       "\n",
       "    .dataframe thead th {\n",
       "        text-align: right;\n",
       "    }\n",
       "</style>\n",
       "<table border=\"1\" class=\"dataframe\">\n",
       "  <thead>\n",
       "    <tr style=\"text-align: right;\">\n",
       "      <th></th>\n",
       "      <th>Month</th>\n",
       "      <th>categorySlug</th>\n",
       "      <th>region</th>\n",
       "      <th>RC</th>\n",
       "      <th>Comercio</th>\n",
       "      <th>sale</th>\n",
       "    </tr>\n",
       "  </thead>\n",
       "  <tbody>\n",
       "    <tr>\n",
       "      <th>0</th>\n",
       "      <td>5</td>\n",
       "      <td>muebles-decoracion-y-menaje-hogar</td>\n",
       "      <td>Catalonia</td>\n",
       "      <td>1.0</td>\n",
       "      <td>0.0</td>\n",
       "      <td>0</td>\n",
       "    </tr>\n",
       "    <tr>\n",
       "      <th>1</th>\n",
       "      <td>4</td>\n",
       "      <td>servicios-generales</td>\n",
       "      <td>Balearic_Islands</td>\n",
       "      <td>1.0</td>\n",
       "      <td>0.0</td>\n",
       "      <td>0</td>\n",
       "    </tr>\n",
       "    <tr>\n",
       "      <th>2</th>\n",
       "      <td>11</td>\n",
       "      <td>arte-y-entretenimiento</td>\n",
       "      <td>Catalonia</td>\n",
       "      <td>1.0</td>\n",
       "      <td>0.0</td>\n",
       "      <td>0</td>\n",
       "    </tr>\n",
       "    <tr>\n",
       "      <th>3</th>\n",
       "      <td>8</td>\n",
       "      <td>servicios-generales</td>\n",
       "      <td>Madrid</td>\n",
       "      <td>1.0</td>\n",
       "      <td>0.0</td>\n",
       "      <td>0</td>\n",
       "    </tr>\n",
       "    <tr>\n",
       "      <th>4</th>\n",
       "      <td>11</td>\n",
       "      <td>construccion-y-reformas</td>\n",
       "      <td>Galicia</td>\n",
       "      <td>1.0</td>\n",
       "      <td>0.0</td>\n",
       "      <td>0</td>\n",
       "    </tr>\n",
       "    <tr>\n",
       "      <th>...</th>\n",
       "      <td>...</td>\n",
       "      <td>...</td>\n",
       "      <td>...</td>\n",
       "      <td>...</td>\n",
       "      <td>...</td>\n",
       "      <td>...</td>\n",
       "    </tr>\n",
       "    <tr>\n",
       "      <th>8057</th>\n",
       "      <td>7</td>\n",
       "      <td>deportes-y-ocio</td>\n",
       "      <td>Valencian_Community</td>\n",
       "      <td>1.0</td>\n",
       "      <td>0.0</td>\n",
       "      <td>0</td>\n",
       "    </tr>\n",
       "    <tr>\n",
       "      <th>8058</th>\n",
       "      <td>8</td>\n",
       "      <td>deportes-y-ocio</td>\n",
       "      <td>Andalusia</td>\n",
       "      <td>1.0</td>\n",
       "      <td>0.0</td>\n",
       "      <td>0</td>\n",
       "    </tr>\n",
       "    <tr>\n",
       "      <th>8059</th>\n",
       "      <td>6</td>\n",
       "      <td>deportes-y-ocio</td>\n",
       "      <td>Madrid</td>\n",
       "      <td>1.0</td>\n",
       "      <td>0.0</td>\n",
       "      <td>0</td>\n",
       "    </tr>\n",
       "    <tr>\n",
       "      <th>8060</th>\n",
       "      <td>9</td>\n",
       "      <td>deportes-y-ocio</td>\n",
       "      <td>Navarre</td>\n",
       "      <td>1.0</td>\n",
       "      <td>0.0</td>\n",
       "      <td>0</td>\n",
       "    </tr>\n",
       "    <tr>\n",
       "      <th>8061</th>\n",
       "      <td>9</td>\n",
       "      <td>deportes-y-ocio</td>\n",
       "      <td>Balearic_Islands</td>\n",
       "      <td>1.0</td>\n",
       "      <td>0.0</td>\n",
       "      <td>0</td>\n",
       "    </tr>\n",
       "  </tbody>\n",
       "</table>\n",
       "<p>7977 rows × 6 columns</p>\n",
       "</div>"
      ],
      "text/plain": [
       "      Month                       categorySlug               region   RC  \\\n",
       "0         5  muebles-decoracion-y-menaje-hogar            Catalonia  1.0   \n",
       "1         4                servicios-generales     Balearic_Islands  1.0   \n",
       "2        11             arte-y-entretenimiento            Catalonia  1.0   \n",
       "3         8                servicios-generales               Madrid  1.0   \n",
       "4        11            construccion-y-reformas              Galicia  1.0   \n",
       "...     ...                                ...                  ...  ...   \n",
       "8057      7                    deportes-y-ocio  Valencian_Community  1.0   \n",
       "8058      8                    deportes-y-ocio            Andalusia  1.0   \n",
       "8059      6                    deportes-y-ocio               Madrid  1.0   \n",
       "8060      9                    deportes-y-ocio              Navarre  1.0   \n",
       "8061      9                    deportes-y-ocio     Balearic_Islands  1.0   \n",
       "\n",
       "      Comercio  sale  \n",
       "0          0.0     0  \n",
       "1          0.0     0  \n",
       "2          0.0     0  \n",
       "3          0.0     0  \n",
       "4          0.0     0  \n",
       "...        ...   ...  \n",
       "8057       0.0     0  \n",
       "8058       0.0     0  \n",
       "8059       0.0     0  \n",
       "8060       0.0     0  \n",
       "8061       0.0     0  \n",
       "\n",
       "[7977 rows x 6 columns]"
      ]
     },
     "execution_count": 40,
     "metadata": {},
     "output_type": "execute_result"
    }
   ],
   "source": [
    "df4 = df[[ \"Month\",'categorySlug', 'region', 'RC', 'Comercio', 'sale']]\n",
    "df4"
   ]
  },
  {
   "cell_type": "code",
   "execution_count": 15,
   "metadata": {},
   "outputs": [
    {
     "ename": "NameError",
     "evalue": "name 'df4' is not defined",
     "output_type": "error",
     "traceback": [
      "\u001b[1;31m---------------------------------------------------------------------------\u001b[0m",
      "\u001b[1;31mNameError\u001b[0m                                 Traceback (most recent call last)",
      "\u001b[1;32m<ipython-input-15-384e32a62969>\u001b[0m in \u001b[0;36m<module>\u001b[1;34m\u001b[0m\n\u001b[1;32m----> 1\u001b[1;33m \u001b[0mdf4\u001b[0m\u001b[1;33m=\u001b[0m\u001b[0mdf4\u001b[0m\u001b[1;33m.\u001b[0m\u001b[0mdropna\u001b[0m\u001b[1;33m(\u001b[0m\u001b[1;33m)\u001b[0m\u001b[1;33m\u001b[0m\u001b[1;33m\u001b[0m\u001b[0m\n\u001b[0m",
      "\u001b[1;31mNameError\u001b[0m: name 'df4' is not defined"
     ]
    }
   ],
   "source": [
    "df4=df4.dropna()"
   ]
  },
  {
   "cell_type": "code",
   "execution_count": 14,
   "metadata": {},
   "outputs": [
    {
     "ename": "NameError",
     "evalue": "name 'df4' is not defined",
     "output_type": "error",
     "traceback": [
      "\u001b[1;31m---------------------------------------------------------------------------\u001b[0m",
      "\u001b[1;31mNameError\u001b[0m                                 Traceback (most recent call last)",
      "\u001b[1;32m<ipython-input-14-1a108c009e52>\u001b[0m in \u001b[0;36m<module>\u001b[1;34m\u001b[0m\n\u001b[0;32m      1\u001b[0m \u001b[0mcategorical_list\u001b[0m \u001b[1;33m=\u001b[0m \u001b[1;33m[\u001b[0m\u001b[1;34m\"categorySlug\"\u001b[0m\u001b[1;33m,\u001b[0m\u001b[1;34m\"region\"\u001b[0m\u001b[1;33m,\u001b[0m\u001b[1;34m\"Month\"\u001b[0m\u001b[1;33m]\u001b[0m\u001b[1;33m\u001b[0m\u001b[1;33m\u001b[0m\u001b[0m\n\u001b[1;32m----> 2\u001b[1;33m \u001b[0mX\u001b[0m \u001b[1;33m=\u001b[0m \u001b[0mdf4\u001b[0m\u001b[1;33m.\u001b[0m\u001b[0mdrop\u001b[0m\u001b[1;33m(\u001b[0m\u001b[0mcolumns\u001b[0m\u001b[1;33m=\u001b[0m\u001b[1;34m'sale'\u001b[0m\u001b[1;33m)\u001b[0m\u001b[1;33m\u001b[0m\u001b[1;33m\u001b[0m\u001b[0m\n\u001b[0m\u001b[0;32m      3\u001b[0m \u001b[0mX\u001b[0m \u001b[1;33m=\u001b[0m \u001b[0mget_dummies\u001b[0m\u001b[1;33m(\u001b[0m\u001b[0mX\u001b[0m\u001b[1;33m,\u001b[0m \u001b[0mcategorical_list\u001b[0m\u001b[1;33m)\u001b[0m\u001b[1;33m\u001b[0m\u001b[1;33m\u001b[0m\u001b[0m\n\u001b[0;32m      4\u001b[0m \u001b[0my\u001b[0m \u001b[1;33m=\u001b[0m \u001b[0mdf4\u001b[0m\u001b[1;33m[\u001b[0m\u001b[1;34m'sale'\u001b[0m\u001b[1;33m]\u001b[0m\u001b[1;33m\u001b[0m\u001b[1;33m\u001b[0m\u001b[0m\n\u001b[0;32m      5\u001b[0m \u001b[0mX_train\u001b[0m\u001b[1;33m,\u001b[0m \u001b[0mX_test\u001b[0m\u001b[1;33m,\u001b[0m \u001b[0my_train\u001b[0m\u001b[1;33m,\u001b[0m \u001b[0my_test\u001b[0m \u001b[1;33m=\u001b[0m \u001b[0mtrain_test_split\u001b[0m\u001b[1;33m(\u001b[0m\u001b[0mX\u001b[0m\u001b[1;33m,\u001b[0m\u001b[0my\u001b[0m\u001b[1;33m,\u001b[0m \u001b[0mtest_size\u001b[0m\u001b[1;33m=\u001b[0m\u001b[1;36m0.3\u001b[0m\u001b[1;33m)\u001b[0m\u001b[1;33m\u001b[0m\u001b[1;33m\u001b[0m\u001b[0m\n",
      "\u001b[1;31mNameError\u001b[0m: name 'df4' is not defined"
     ]
    }
   ],
   "source": [
    "categorical_list = [\"categorySlug\",\"region\",\"Month\"]\n",
    "X = df4.drop(columns='sale')\n",
    "X = get_dummies(X, categorical_list)\n",
    "y = df4['sale']\n",
    "X_train, X_test, y_train, y_test = train_test_split(X,y, test_size=0.3)"
   ]
  },
  {
   "cell_type": "code",
   "execution_count": 27,
   "metadata": {},
   "outputs": [
    {
     "data": {
      "text/plain": [
       "0    7075\n",
       "1     902\n",
       "Name: sale, dtype: int64"
      ]
     },
     "execution_count": 27,
     "metadata": {},
     "output_type": "execute_result"
    }
   ],
   "source": []
  },
  {
   "cell_type": "code",
   "execution_count": 35,
   "metadata": {},
   "outputs": [],
   "source": []
  },
  {
   "cell_type": "code",
   "execution_count": 43,
   "metadata": {},
   "outputs": [
    {
     "data": {
      "text/plain": [
       "0    6456\n",
       "1     833\n",
       "Name: sale, dtype: int64"
      ]
     },
     "execution_count": 43,
     "metadata": {},
     "output_type": "execute_result"
    }
   ],
   "source": [
    "df4['sale'].value_counts()"
   ]
  },
  {
   "cell_type": "code",
   "execution_count": 44,
   "metadata": {},
   "outputs": [
    {
     "data": {
      "text/plain": [
       "0    4516\n",
       "1    2709\n",
       "Name: sale, dtype: int64"
      ]
     },
     "execution_count": 44,
     "metadata": {},
     "output_type": "execute_result"
    }
   ],
   "source": [
    "from imblearn.combine import SMOTEENN \n",
    "from imblearn.combine import SMOTETomek\n",
    "\n",
    "oversamp_undersamp = SMOTETomek(sampling_strategy=0.6) #default sampling strategy\n",
    "X_train_b, y_train_b = oversamp_undersamp.fit_sample(X_train, y_train)\n",
    "X_train_b.shape, y_train_b.shape\n",
    "y_train_b.value_counts()"
   ]
  },
  {
   "cell_type": "code",
   "execution_count": 45,
   "metadata": {},
   "outputs": [],
   "source": [
    "model = RandomForestClassifier()"
   ]
  },
  {
   "cell_type": "code",
   "execution_count": 46,
   "metadata": {},
   "outputs": [
    {
     "data": {
      "text/plain": [
       "0.7590306355738454"
      ]
     },
     "execution_count": 46,
     "metadata": {},
     "output_type": "execute_result"
    }
   ],
   "source": [
    "model.fit(X_train_b, np.ravel(y_train_b)).score(X_test, np.ravel(y_test))"
   ]
  },
  {
   "cell_type": "code",
   "execution_count": 47,
   "metadata": {},
   "outputs": [],
   "source": [
    "from sklearn.model_selection import RandomizedSearchCV\n",
    "\n",
    "n_estimators = [int(x) for x in np.linspace(start = 200, stop = 2000, num = 10)]\n",
    "max_features = ['auto', 'sqrt']\n",
    "max_depth = [int(x) for x in np.linspace(10, 110, num = 11)]\n",
    "max_depth.append(None)\n",
    "min_samples_split = [2, 5, 10]\n",
    "min_samples_leaf = [1, 2, 4]\n",
    "bootstrap = [True, False]\n",
    "random_grid = {'n_estimators': n_estimators,\n",
    "               'max_features': max_features,\n",
    "               'max_depth': max_depth,\n",
    "               'min_samples_split': min_samples_split,\n",
    "               'min_samples_leaf': min_samples_leaf,\n",
    "               'bootstrap': bootstrap}"
   ]
  },
  {
   "cell_type": "code",
   "execution_count": 48,
   "metadata": {},
   "outputs": [],
   "source": [
    "rf = RandomForestClassifier()\n",
    "rf_random = RandomizedSearchCV(estimator = rf, \n",
    "                               param_distributions = random_grid, \n",
    "                               n_iter = 100, cv = 3, verbose=2, random_state=42, n_jobs = -1)"
   ]
  },
  {
   "cell_type": "code",
   "execution_count": 49,
   "metadata": {},
   "outputs": [
    {
     "name": "stdout",
     "output_type": "stream",
     "text": [
      "Fitting 3 folds for each of 100 candidates, totalling 300 fits\n"
     ]
    },
    {
     "name": "stderr",
     "output_type": "stream",
     "text": [
      "[Parallel(n_jobs=-1)]: Using backend LokyBackend with 8 concurrent workers.\n",
      "[Parallel(n_jobs=-1)]: Done  25 tasks      | elapsed:  1.2min\n",
      "[Parallel(n_jobs=-1)]: Done 146 tasks      | elapsed:  6.7min\n",
      "[Parallel(n_jobs=-1)]: Done 300 out of 300 | elapsed: 13.4min finished\n"
     ]
    },
    {
     "data": {
      "text/plain": [
       "RandomizedSearchCV(cv=3, estimator=RandomForestClassifier(), n_iter=100,\n",
       "                   n_jobs=-1,\n",
       "                   param_distributions={'bootstrap': [True, False],\n",
       "                                        'max_depth': [10, 20, 30, 40, 50, 60,\n",
       "                                                      70, 80, 90, 100, 110,\n",
       "                                                      None],\n",
       "                                        'max_features': ['auto', 'sqrt'],\n",
       "                                        'min_samples_leaf': [1, 2, 4],\n",
       "                                        'min_samples_split': [2, 5, 10],\n",
       "                                        'n_estimators': [200, 400, 600, 800,\n",
       "                                                         1000, 1200, 1400, 1600,\n",
       "                                                         1800, 2000]},\n",
       "                   random_state=42, verbose=2)"
      ]
     },
     "execution_count": 49,
     "metadata": {},
     "output_type": "execute_result"
    }
   ],
   "source": [
    "rf_random.fit(X_train_b, y_train_b)"
   ]
  },
  {
   "cell_type": "code",
   "execution_count": 50,
   "metadata": {},
   "outputs": [
    {
     "name": "stdout",
     "output_type": "stream",
     "text": [
      "Random Forest classifier best paramas\n",
      "0.8081755064870707\n",
      "{'n_estimators': 1000, 'min_samples_split': 10, 'min_samples_leaf': 1, 'max_features': 'sqrt', 'max_depth': 80, 'bootstrap': False}\n"
     ]
    }
   ],
   "source": [
    "print('Random Forest classifier best paramas')\n",
    "print(rf_random.best_score_)\n",
    "print(rf_random.best_params_)"
   ]
  },
  {
   "cell_type": "code",
   "execution_count": 51,
   "metadata": {},
   "outputs": [],
   "source": [
    "rf_optimal = RandomForestClassifier(n_estimators = 1800, min_samples_split = 10,\n",
    "                                    min_samples_leaf = 1, max_features = 'sqrt', max_depth = 30,\n",
    "                                    bootstrap = False)"
   ]
  },
  {
   "cell_type": "code",
   "execution_count": 52,
   "metadata": {},
   "outputs": [
    {
     "data": {
      "text/plain": [
       "RandomForestClassifier(bootstrap=False, max_depth=30, max_features='sqrt',\n",
       "                       min_samples_split=10, n_estimators=1800)"
      ]
     },
     "execution_count": 52,
     "metadata": {},
     "output_type": "execute_result"
    }
   ],
   "source": [
    "rf_optimal.fit(X_train_b, y_train_b)"
   ]
  },
  {
   "cell_type": "code",
   "execution_count": 53,
   "metadata": {},
   "outputs": [
    {
     "name": "stdout",
     "output_type": "stream",
     "text": [
      "              precision    recall  f1-score   support\n",
      "\n",
      "           0       0.90      0.83      0.86      1940\n",
      "           1       0.18      0.29      0.22       247\n",
      "\n",
      "    accuracy                           0.77      2187\n",
      "   macro avg       0.54      0.56      0.54      2187\n",
      "weighted avg       0.82      0.77      0.79      2187\n",
      "\n",
      "accuracy score on test: 0.766803840877915\n",
      "accuracy on train: 0.8596539792387543\n"
     ]
    }
   ],
   "source": [
    "#Month added\n",
    "from sklearn.metrics import accuracy_score\n",
    "from sklearn.metrics import classification_report\n",
    "\n",
    "predictions_train = rf_optimal.predict(X_train_b)\n",
    "predictions_test = rf_optimal.predict(X_test)\n",
    "print(classification_report(y_test, predictions_test))\n",
    "print(\"accuracy score on test:\", accuracy_score(y_test, predictions_test))\n",
    "print(\"accuracy on train:\", accuracy_score(y_train_b, predictions_train))"
   ]
  },
  {
   "cell_type": "markdown",
   "metadata": {},
   "source": [
    "We include source as a new variable"
   ]
  },
  {
   "cell_type": "code",
   "execution_count": 54,
   "metadata": {},
   "outputs": [],
   "source": [
    "df5 = df[['categorySlug', 'region', 'RC', 'Comercio', 'sale',\"source\",\"Month\"]]\n",
    "\n",
    "df5=df5.dropna()"
   ]
  },
  {
   "cell_type": "code",
   "execution_count": 55,
   "metadata": {},
   "outputs": [],
   "source": [
    "categorical_list = [\"categorySlug\",\"region\",\"source\",\"Month\"]\n",
    "X = df5.drop(columns='sale')\n",
    "X = get_dummies(X, categorical_list)\n",
    "y = df5['sale']\n",
    "X_train, X_test, y_train, y_test = train_test_split(X,y, test_size=0.3)"
   ]
  },
  {
   "cell_type": "code",
   "execution_count": 56,
   "metadata": {},
   "outputs": [],
   "source": [
    "df5=df5.dropna(inplace=True)"
   ]
  },
  {
   "cell_type": "code",
   "execution_count": 57,
   "metadata": {},
   "outputs": [
    {
     "data": {
      "text/plain": [
       "0    2538\n",
       "1    1522\n",
       "Name: sale, dtype: int64"
      ]
     },
     "execution_count": 57,
     "metadata": {},
     "output_type": "execute_result"
    }
   ],
   "source": [
    "oversamp_undersamp = SMOTETomek(sampling_strategy=0.6) #default sampling strategy\n",
    "X_train_b, y_train_b = oversamp_undersamp.fit_sample(X_train, y_train)\n",
    "X_train_b.shape, y_train_b.shape\n",
    "y_train_b.value_counts()"
   ]
  },
  {
   "cell_type": "code",
   "execution_count": 58,
   "metadata": {},
   "outputs": [],
   "source": [
    "model = RandomForestClassifier()"
   ]
  },
  {
   "cell_type": "code",
   "execution_count": 59,
   "metadata": {},
   "outputs": [
    {
     "data": {
      "text/plain": [
       "0.8276999175597691"
      ]
     },
     "execution_count": 59,
     "metadata": {},
     "output_type": "execute_result"
    }
   ],
   "source": [
    "model.fit(X_train_b, np.ravel(y_train_b)).score(X_test, np.ravel(y_test))"
   ]
  },
  {
   "cell_type": "code",
   "execution_count": 60,
   "metadata": {},
   "outputs": [],
   "source": [
    "from sklearn.model_selection import RandomizedSearchCV\n",
    "\n",
    "n_estimators = [int(x) for x in np.linspace(start = 200, stop = 2000, num = 10)]\n",
    "max_features = ['auto', 'sqrt']\n",
    "max_depth = [int(x) for x in np.linspace(10, 110, num = 11)]\n",
    "max_depth.append(None)\n",
    "min_samples_split = [2, 5, 10]\n",
    "min_samples_leaf = [1, 2, 4]\n",
    "bootstrap = [True, False]\n",
    "random_grid = {'n_estimators': n_estimators,\n",
    "               'max_features': max_features,\n",
    "               'max_depth': max_depth,\n",
    "               'min_samples_split': min_samples_split,\n",
    "               'min_samples_leaf': min_samples_leaf,\n",
    "               'bootstrap': bootstrap}"
   ]
  },
  {
   "cell_type": "code",
   "execution_count": 61,
   "metadata": {},
   "outputs": [],
   "source": [
    "rf = RandomForestClassifier()\n",
    "rf_random = RandomizedSearchCV(estimator = rf, \n",
    "                               param_distributions = random_grid, \n",
    "                               n_iter = 100, cv = 3, verbose=2, random_state=42, n_jobs = -1)"
   ]
  },
  {
   "cell_type": "code",
   "execution_count": 62,
   "metadata": {},
   "outputs": [
    {
     "name": "stdout",
     "output_type": "stream",
     "text": [
      "Fitting 3 folds for each of 100 candidates, totalling 300 fits\n"
     ]
    },
    {
     "name": "stderr",
     "output_type": "stream",
     "text": [
      "[Parallel(n_jobs=-1)]: Using backend LokyBackend with 8 concurrent workers.\n",
      "[Parallel(n_jobs=-1)]: Done  25 tasks      | elapsed:   43.0s\n",
      "[Parallel(n_jobs=-1)]: Done 146 tasks      | elapsed:  4.0min\n",
      "[Parallel(n_jobs=-1)]: Done 300 out of 300 | elapsed:  8.5min finished\n"
     ]
    },
    {
     "data": {
      "text/plain": [
       "RandomizedSearchCV(cv=3, estimator=RandomForestClassifier(), n_iter=100,\n",
       "                   n_jobs=-1,\n",
       "                   param_distributions={'bootstrap': [True, False],\n",
       "                                        'max_depth': [10, 20, 30, 40, 50, 60,\n",
       "                                                      70, 80, 90, 100, 110,\n",
       "                                                      None],\n",
       "                                        'max_features': ['auto', 'sqrt'],\n",
       "                                        'min_samples_leaf': [1, 2, 4],\n",
       "                                        'min_samples_split': [2, 5, 10],\n",
       "                                        'n_estimators': [200, 400, 600, 800,\n",
       "                                                         1000, 1200, 1400, 1600,\n",
       "                                                         1800, 2000]},\n",
       "                   random_state=42, verbose=2)"
      ]
     },
     "execution_count": 62,
     "metadata": {},
     "output_type": "execute_result"
    }
   ],
   "source": [
    "rf_random.fit(X_train_b, y_train_b)"
   ]
  },
  {
   "cell_type": "code",
   "execution_count": 63,
   "metadata": {},
   "outputs": [
    {
     "name": "stdout",
     "output_type": "stream",
     "text": [
      "Random Forest classifier best paramas\n",
      "0.8546991331334018\n",
      "{'n_estimators': 600, 'min_samples_split': 5, 'min_samples_leaf': 1, 'max_features': 'sqrt', 'max_depth': 60, 'bootstrap': False}\n"
     ]
    }
   ],
   "source": [
    "print('Random Forest classifier best paramas')\n",
    "print(rf_random.best_score_)\n",
    "print(rf_random.best_params_)"
   ]
  },
  {
   "cell_type": "code",
   "execution_count": 64,
   "metadata": {},
   "outputs": [],
   "source": [
    "rf_optimal = RandomForestClassifier(n_estimators = 1800, min_samples_split = 10,\n",
    "                                    min_samples_leaf = 1, max_features = 'sqrt', max_depth = 30,\n",
    "                                    bootstrap = False)"
   ]
  },
  {
   "cell_type": "code",
   "execution_count": 65,
   "metadata": {},
   "outputs": [
    {
     "data": {
      "text/plain": [
       "RandomForestClassifier(bootstrap=False, max_depth=30, max_features='sqrt',\n",
       "                       min_samples_split=10, n_estimators=1800)"
      ]
     },
     "execution_count": 65,
     "metadata": {},
     "output_type": "execute_result"
    }
   ],
   "source": [
    "rf_optimal.fit(X_train_b, y_train_b)"
   ]
  },
  {
   "cell_type": "code",
   "execution_count": 66,
   "metadata": {},
   "outputs": [
    {
     "name": "stdout",
     "output_type": "stream",
     "text": [
      "              precision    recall  f1-score   support\n",
      "\n",
      "           0       0.91      0.90      0.91      1104\n",
      "           1       0.12      0.15      0.14       109\n",
      "\n",
      "    accuracy                           0.83      1213\n",
      "   macro avg       0.52      0.52      0.52      1213\n",
      "weighted avg       0.84      0.83      0.84      1213\n",
      "\n",
      "accuracy score on test: 0.830997526793075\n",
      "accuracy on train: 0.9174876847290641\n"
     ]
    }
   ],
   "source": [
    "#Month added\n",
    "from sklearn.metrics import accuracy_score\n",
    "from sklearn.metrics import classification_report\n",
    "\n",
    "predictions_train = rf_optimal.predict(X_train_b)\n",
    "predictions_test = rf_optimal.predict(X_test)\n",
    "print(classification_report(y_test, predictions_test))\n",
    "print(\"accuracy score on test:\", accuracy_score(y_test, predictions_test))\n",
    "print(\"accuracy on train:\", accuracy_score(y_train_b, predictions_train))"
   ]
  },
  {
   "cell_type": "markdown",
   "metadata": {},
   "source": [
    "We include sessions as a new variable"
   ]
  },
  {
   "cell_type": "code",
   "execution_count": 67,
   "metadata": {},
   "outputs": [],
   "source": [
    "df6 = df[['categorySlug', 'region', 'RC', 'Comercio', 'sale',\"source\",\"Month\",\"sessions\"]]\n",
    "\n",
    "df6=df6.dropna()"
   ]
  },
  {
   "cell_type": "code",
   "execution_count": 68,
   "metadata": {},
   "outputs": [],
   "source": [
    "categorical_list = [\"categorySlug\",\"region\",\"source\",\"Month\"]\n",
    "X = df6.drop(columns='sale')\n",
    "X = get_dummies(X, categorical_list)\n",
    "y = df6['sale']\n",
    "X_train, X_test, y_train, y_test = train_test_split(X,y, test_size=0.3)"
   ]
  },
  {
   "cell_type": "code",
   "execution_count": 69,
   "metadata": {},
   "outputs": [
    {
     "data": {
      "text/plain": [
       "0    2550\n",
       "1    1529\n",
       "Name: sale, dtype: int64"
      ]
     },
     "execution_count": 69,
     "metadata": {},
     "output_type": "execute_result"
    }
   ],
   "source": [
    "oversamp_undersamp = SMOTETomek(sampling_strategy=0.6) #default sampling strategy\n",
    "X_train_b, y_train_b = oversamp_undersamp.fit_sample(X_train, y_train)\n",
    "X_train_b.shape, y_train_b.shape\n",
    "y_train_b.value_counts()"
   ]
  },
  {
   "cell_type": "code",
   "execution_count": 70,
   "metadata": {},
   "outputs": [],
   "source": [
    "model = RandomForestClassifier()"
   ]
  },
  {
   "cell_type": "code",
   "execution_count": 71,
   "metadata": {},
   "outputs": [
    {
     "data": {
      "text/plain": [
       "0.8219291014014839"
      ]
     },
     "execution_count": 71,
     "metadata": {},
     "output_type": "execute_result"
    }
   ],
   "source": [
    "model.fit(X_train_b, np.ravel(y_train_b)).score(X_test, np.ravel(y_test))"
   ]
  },
  {
   "cell_type": "code",
   "execution_count": 72,
   "metadata": {},
   "outputs": [],
   "source": [
    "from sklearn.model_selection import RandomizedSearchCV\n",
    "\n",
    "n_estimators = [int(x) for x in np.linspace(start = 200, stop = 2000, num = 10)]\n",
    "max_features = ['auto', 'sqrt']\n",
    "max_depth = [int(x) for x in np.linspace(10, 110, num = 11)]\n",
    "max_depth.append(None)\n",
    "min_samples_split = [2, 5, 10]\n",
    "min_samples_leaf = [1, 2, 4]\n",
    "bootstrap = [True, False]\n",
    "random_grid = {'n_estimators': n_estimators,\n",
    "               'max_features': max_features,\n",
    "               'max_depth': max_depth,\n",
    "               'min_samples_split': min_samples_split,\n",
    "               'min_samples_leaf': min_samples_leaf,\n",
    "               'bootstrap': bootstrap}"
   ]
  },
  {
   "cell_type": "code",
   "execution_count": 73,
   "metadata": {},
   "outputs": [],
   "source": [
    "rf = RandomForestClassifier()\n",
    "rf_random = RandomizedSearchCV(estimator = rf, \n",
    "                               param_distributions = random_grid, \n",
    "                               n_iter = 100, cv = 3, verbose=2, random_state=42, n_jobs = -1)"
   ]
  },
  {
   "cell_type": "code",
   "execution_count": 74,
   "metadata": {},
   "outputs": [
    {
     "name": "stdout",
     "output_type": "stream",
     "text": [
      "Fitting 3 folds for each of 100 candidates, totalling 300 fits\n"
     ]
    },
    {
     "name": "stderr",
     "output_type": "stream",
     "text": [
      "[Parallel(n_jobs=-1)]: Using backend LokyBackend with 8 concurrent workers.\n",
      "[Parallel(n_jobs=-1)]: Done  25 tasks      | elapsed:   44.6s\n",
      "[Parallel(n_jobs=-1)]: Done 146 tasks      | elapsed:  4.2min\n",
      "[Parallel(n_jobs=-1)]: Done 300 out of 300 | elapsed:  8.6min finished\n"
     ]
    },
    {
     "data": {
      "text/plain": [
       "RandomizedSearchCV(cv=3, estimator=RandomForestClassifier(), n_iter=100,\n",
       "                   n_jobs=-1,\n",
       "                   param_distributions={'bootstrap': [True, False],\n",
       "                                        'max_depth': [10, 20, 30, 40, 50, 60,\n",
       "                                                      70, 80, 90, 100, 110,\n",
       "                                                      None],\n",
       "                                        'max_features': ['auto', 'sqrt'],\n",
       "                                        'min_samples_leaf': [1, 2, 4],\n",
       "                                        'min_samples_split': [2, 5, 10],\n",
       "                                        'n_estimators': [200, 400, 600, 800,\n",
       "                                                         1000, 1200, 1400, 1600,\n",
       "                                                         1800, 2000]},\n",
       "                   random_state=42, verbose=2)"
      ]
     },
     "execution_count": 74,
     "metadata": {},
     "output_type": "execute_result"
    }
   ],
   "source": [
    "rf_random.fit(X_train_b, y_train_b)"
   ]
  },
  {
   "cell_type": "code",
   "execution_count": 75,
   "metadata": {},
   "outputs": [
    {
     "name": "stdout",
     "output_type": "stream",
     "text": [
      "Random Forest classifier best paramas\n",
      "0.8693400207765225\n",
      "{'n_estimators': 400, 'min_samples_split': 5, 'min_samples_leaf': 1, 'max_features': 'sqrt', 'max_depth': 100, 'bootstrap': True}\n"
     ]
    }
   ],
   "source": [
    "print('Random Forest classifier best paramas')\n",
    "print(rf_random.best_score_)\n",
    "print(rf_random.best_params_)"
   ]
  },
  {
   "cell_type": "code",
   "execution_count": 76,
   "metadata": {},
   "outputs": [],
   "source": [
    "rf_optimal = RandomForestClassifier(n_estimators = 1800, min_samples_split = 10,\n",
    "                                    min_samples_leaf = 1, max_features = 'sqrt', max_depth = 30,\n",
    "                                    bootstrap = False)"
   ]
  },
  {
   "cell_type": "code",
   "execution_count": 77,
   "metadata": {},
   "outputs": [
    {
     "data": {
      "text/plain": [
       "RandomForestClassifier(bootstrap=False, max_depth=30, max_features='sqrt',\n",
       "                       min_samples_split=10, n_estimators=1800)"
      ]
     },
     "execution_count": 77,
     "metadata": {},
     "output_type": "execute_result"
    }
   ],
   "source": [
    "rf_optimal.fit(X_train_b, y_train_b)"
   ]
  },
  {
   "cell_type": "code",
   "execution_count": 78,
   "metadata": {},
   "outputs": [
    {
     "name": "stdout",
     "output_type": "stream",
     "text": [
      "              precision    recall  f1-score   support\n",
      "\n",
      "           0       0.91      0.92      0.92      1091\n",
      "           1       0.21      0.20      0.21       122\n",
      "\n",
      "    accuracy                           0.85      1213\n",
      "   macro avg       0.56      0.56      0.56      1213\n",
      "weighted avg       0.84      0.85      0.84      1213\n",
      "\n",
      "accuracy score on test: 0.8466611706512778\n",
      "accuracy on train: 0.9384653101250306\n"
     ]
    }
   ],
   "source": [
    "#Month added\n",
    "from sklearn.metrics import accuracy_score\n",
    "from sklearn.metrics import classification_report\n",
    "\n",
    "predictions_train = rf_optimal.predict(X_train_b)\n",
    "predictions_test = rf_optimal.predict(X_test)\n",
    "print(classification_report(y_test, predictions_test))\n",
    "print(\"accuracy score on test:\", accuracy_score(y_test, predictions_test))\n",
    "print(\"accuracy on train:\", accuracy_score(y_train_b, predictions_train))"
   ]
  },
  {
   "cell_type": "code",
   "execution_count": null,
   "metadata": {},
   "outputs": [],
   "source": []
  },
  {
   "cell_type": "markdown",
   "metadata": {},
   "source": [
    "We include weekday a as variable\n"
   ]
  },
  {
   "cell_type": "code",
   "execution_count": 93,
   "metadata": {},
   "outputs": [
    {
     "name": "stderr",
     "output_type": "stream",
     "text": [
      "C:\\Users\\Álvaro\\anaconda3.1\\lib\\site-packages\\ipykernel_launcher.py:1: SettingWithCopyWarning: \n",
      "A value is trying to be set on a copy of a slice from a DataFrame.\n",
      "Try using .loc[row_indexer,col_indexer] = value instead\n",
      "\n",
      "See the caveats in the documentation: https://pandas.pydata.org/pandas-docs/stable/user_guide/indexing.html#returning-a-view-versus-a-copy\n",
      "  \"\"\"Entry point for launching an IPython kernel.\n"
     ]
    }
   ],
   "source": [
    "df['WEEKDAY'] = pd.to_datetime(df['Date']).dt.dayofweek"
   ]
  },
  {
   "cell_type": "code",
   "execution_count": 100,
   "metadata": {},
   "outputs": [],
   "source": [
    "df7 = df[['categorySlug', 'region', 'RC', 'Comercio', 'sale',\"source\",\"Month\",\"sessions\",\"WEEKDAY\"]]\n",
    "\n",
    "df7=df7.dropna()"
   ]
  },
  {
   "cell_type": "code",
   "execution_count": 101,
   "metadata": {},
   "outputs": [],
   "source": [
    "categorical_list = [\"categorySlug\",\"region\",\"source\",\"Month\"]\n",
    "X = df7.drop(columns='sale')\n",
    "X = get_dummies(X, categorical_list)\n",
    "y = df7['sale']\n",
    "X_train, X_test, y_train, y_test = train_test_split(X,y, test_size=0.3)"
   ]
  },
  {
   "cell_type": "code",
   "execution_count": 102,
   "metadata": {},
   "outputs": [
    {
     "data": {
      "text/plain": [
       "0    2558\n",
       "1    1534\n",
       "Name: sale, dtype: int64"
      ]
     },
     "execution_count": 102,
     "metadata": {},
     "output_type": "execute_result"
    }
   ],
   "source": [
    "oversamp_undersamp = SMOTETomek(sampling_strategy=0.6) #default sampling strategy\n",
    "X_train_b, y_train_b = oversamp_undersamp.fit_sample(X_train, y_train)\n",
    "X_train_b.shape, y_train_b.shape\n",
    "y_train_b.value_counts()"
   ]
  },
  {
   "cell_type": "code",
   "execution_count": 103,
   "metadata": {},
   "outputs": [],
   "source": [
    "model = RandomForestClassifier()"
   ]
  },
  {
   "cell_type": "code",
   "execution_count": 104,
   "metadata": {},
   "outputs": [
    {
     "data": {
      "text/plain": [
       "0.8590272052761748"
      ]
     },
     "execution_count": 104,
     "metadata": {},
     "output_type": "execute_result"
    }
   ],
   "source": [
    "model.fit(X_train_b, np.ravel(y_train_b)).score(X_test, np.ravel(y_test))"
   ]
  },
  {
   "cell_type": "code",
   "execution_count": 105,
   "metadata": {},
   "outputs": [],
   "source": [
    "from sklearn.model_selection import RandomizedSearchCV\n",
    "\n",
    "n_estimators = [int(x) for x in np.linspace(start = 200, stop = 2000, num = 10)]\n",
    "max_features = ['auto', 'sqrt']\n",
    "max_depth = [int(x) for x in np.linspace(10, 110, num = 11)]\n",
    "max_depth.append(None)\n",
    "min_samples_split = [2, 5, 10]\n",
    "min_samples_leaf = [1, 2, 4]\n",
    "bootstrap = [True, False]\n",
    "random_grid = {'n_estimators': n_estimators,\n",
    "               'max_features': max_features,\n",
    "               'max_depth': max_depth,\n",
    "               'min_samples_split': min_samples_split,\n",
    "               'min_samples_leaf': min_samples_leaf,\n",
    "               'bootstrap': bootstrap}"
   ]
  },
  {
   "cell_type": "code",
   "execution_count": 106,
   "metadata": {},
   "outputs": [],
   "source": [
    "rf = RandomForestClassifier()\n",
    "rf_random = RandomizedSearchCV(estimator = rf, \n",
    "                               param_distributions = random_grid, \n",
    "                               n_iter = 100, cv = 3, verbose=2, random_state=42, n_jobs = -1)"
   ]
  },
  {
   "cell_type": "code",
   "execution_count": 107,
   "metadata": {},
   "outputs": [
    {
     "name": "stdout",
     "output_type": "stream",
     "text": [
      "Fitting 3 folds for each of 100 candidates, totalling 300 fits\n"
     ]
    },
    {
     "name": "stderr",
     "output_type": "stream",
     "text": [
      "[Parallel(n_jobs=-1)]: Using backend LokyBackend with 8 concurrent workers.\n",
      "[Parallel(n_jobs=-1)]: Done  25 tasks      | elapsed:   43.5s\n",
      "[Parallel(n_jobs=-1)]: Done 146 tasks      | elapsed:  4.2min\n",
      "[Parallel(n_jobs=-1)]: Done 300 out of 300 | elapsed:  8.0min finished\n"
     ]
    },
    {
     "data": {
      "text/plain": [
       "RandomizedSearchCV(cv=3, estimator=RandomForestClassifier(), n_iter=100,\n",
       "                   n_jobs=-1,\n",
       "                   param_distributions={'bootstrap': [True, False],\n",
       "                                        'max_depth': [10, 20, 30, 40, 50, 60,\n",
       "                                                      70, 80, 90, 100, 110,\n",
       "                                                      None],\n",
       "                                        'max_features': ['auto', 'sqrt'],\n",
       "                                        'min_samples_leaf': [1, 2, 4],\n",
       "                                        'min_samples_split': [2, 5, 10],\n",
       "                                        'n_estimators': [200, 400, 600, 800,\n",
       "                                                         1000, 1200, 1400, 1600,\n",
       "                                                         1800, 2000]},\n",
       "                   random_state=42, verbose=2)"
      ]
     },
     "execution_count": 107,
     "metadata": {},
     "output_type": "execute_result"
    }
   ],
   "source": [
    "rf_random.fit(X_train_b, y_train_b)"
   ]
  },
  {
   "cell_type": "code",
   "execution_count": 108,
   "metadata": {},
   "outputs": [
    {
     "name": "stdout",
     "output_type": "stream",
     "text": [
      "Random Forest classifier best paramas\n",
      "0.8927174975562072\n",
      "{'n_estimators': 800, 'min_samples_split': 5, 'min_samples_leaf': 1, 'max_features': 'sqrt', 'max_depth': 40, 'bootstrap': True}\n"
     ]
    }
   ],
   "source": [
    "print('Random Forest classifier best paramas')\n",
    "print(rf_random.best_score_)\n",
    "print(rf_random.best_params_)"
   ]
  },
  {
   "cell_type": "code",
   "execution_count": 109,
   "metadata": {},
   "outputs": [],
   "source": [
    "rf_optimal = RandomForestClassifier(n_estimators = 1800, min_samples_split = 10,\n",
    "                                    min_samples_leaf = 1, max_features = 'sqrt', max_depth = 30,\n",
    "                                    bootstrap = False)"
   ]
  },
  {
   "cell_type": "code",
   "execution_count": 110,
   "metadata": {},
   "outputs": [
    {
     "data": {
      "text/plain": [
       "RandomForestClassifier(bootstrap=False, max_depth=30, max_features='sqrt',\n",
       "                       min_samples_split=10, n_estimators=1800)"
      ]
     },
     "execution_count": 110,
     "metadata": {},
     "output_type": "execute_result"
    }
   ],
   "source": [
    "rf_optimal.fit(X_train_b, y_train_b)"
   ]
  },
  {
   "cell_type": "code",
   "execution_count": 111,
   "metadata": {},
   "outputs": [
    {
     "name": "stdout",
     "output_type": "stream",
     "text": [
      "              precision    recall  f1-score   support\n",
      "\n",
      "           0       0.90      0.96      0.93      1083\n",
      "           1       0.27      0.13      0.18       130\n",
      "\n",
      "    accuracy                           0.87      1213\n",
      "   macro avg       0.59      0.54      0.55      1213\n",
      "weighted avg       0.83      0.87      0.85      1213\n",
      "\n",
      "accuracy score on test: 0.8697444352844188\n",
      "accuracy on train: 0.9601661779081134\n"
     ]
    }
   ],
   "source": [
    "#Month added\n",
    "from sklearn.metrics import accuracy_score\n",
    "from sklearn.metrics import classification_report\n",
    "\n",
    "predictions_train = rf_optimal.predict(X_train_b)\n",
    "predictions_test = rf_optimal.predict(X_test)\n",
    "print(classification_report(y_test, predictions_test))\n",
    "print(\"accuracy score on test:\", accuracy_score(y_test, predictions_test))\n",
    "print(\"accuracy on train:\", accuracy_score(y_train_b, predictions_train))"
   ]
  },
  {
   "cell_type": "code",
   "execution_count": null,
   "metadata": {},
   "outputs": [],
   "source": [
    "from sklearn.metrics import r2_score\n",
    "from rfpimp import permutation_importances\n",
    "\n",
    "def r2(rf, X_train, y_train):\n",
    "    return r2_score(y_train, rf.predict(X_train))\n",
    "\n",
    "perm_imp_rfpimp = permutation_importances(rf, X_train, y_train, r2)"
   ]
  },
  {
   "cell_type": "markdown",
   "metadata": {},
   "source": [
    "Comercio leads prediction"
   ]
  },
  {
   "cell_type": "code",
   "execution_count": 12,
   "metadata": {},
   "outputs": [],
   "source": [
    "df8 = df[['categorySlug', 'region','Comercio', 'sale',\"source\",\"sessions\",\"quote\"]]\n",
    "\n",
    "df8=df8.dropna()"
   ]
  },
  {
   "cell_type": "code",
   "execution_count": 17,
   "metadata": {},
   "outputs": [],
   "source": [
    "categorical_list = [\"categorySlug\",\"region\",\"source\"]\n",
    "X = df8.drop(columns='sale')\n",
    "X = get_dummies(X, categorical_list)\n",
    "y = df8['sale']\n",
    "X_train, X_test, y_train, y_test = train_test_split(X,y, test_size=0.3)"
   ]
  },
  {
   "cell_type": "code",
   "execution_count": 23,
   "metadata": {},
   "outputs": [
    {
     "data": {
      "text/plain": [
       "0    2547\n",
       "1    1528\n",
       "Name: sale, dtype: int64"
      ]
     },
     "execution_count": 23,
     "metadata": {},
     "output_type": "execute_result"
    }
   ],
   "source": [
    "oversamp_undersamp = SMOTETomek(sampling_strategy=0.6) #default sampling strategy\n",
    "X_train_b, y_train_b = oversamp_undersamp.fit_sample(X_train, y_train)\n",
    "X_train_b.shape, y_train_b.shape\n",
    "y_train_b.value_counts()"
   ]
  },
  {
   "cell_type": "code",
   "execution_count": 24,
   "metadata": {},
   "outputs": [],
   "source": [
    "model = RandomForestClassifier()"
   ]
  },
  {
   "cell_type": "code",
   "execution_count": 25,
   "metadata": {},
   "outputs": [
    {
     "data": {
      "text/plain": [
       "0.79719703215169"
      ]
     },
     "execution_count": 25,
     "metadata": {},
     "output_type": "execute_result"
    }
   ],
   "source": [
    "model.fit(X_train_b, np.ravel(y_train_b)).score(X_test, np.ravel(y_test))"
   ]
  },
  {
   "cell_type": "code",
   "execution_count": 26,
   "metadata": {},
   "outputs": [],
   "source": [
    "from sklearn.model_selection import RandomizedSearchCV\n",
    "\n",
    "n_estimators = [int(x) for x in np.linspace(start = 200, stop = 2000, num = 10)]\n",
    "max_features = ['auto', 'sqrt']\n",
    "max_depth = [int(x) for x in np.linspace(10, 110, num = 11)]\n",
    "max_depth.append(None)\n",
    "min_samples_split = [2, 5, 10]\n",
    "min_samples_leaf = [1, 2, 4]\n",
    "bootstrap = [True, False]\n",
    "random_grid = {'n_estimators': n_estimators,\n",
    "               'max_features': max_features,\n",
    "               'max_depth': max_depth,\n",
    "               'min_samples_split': min_samples_split,\n",
    "               'min_samples_leaf': min_samples_leaf,\n",
    "               'bootstrap': bootstrap}"
   ]
  },
  {
   "cell_type": "code",
   "execution_count": 27,
   "metadata": {},
   "outputs": [],
   "source": [
    "rf = RandomForestClassifier()\n",
    "rf_random = RandomizedSearchCV(estimator = rf, \n",
    "                               param_distributions = random_grid, \n",
    "                               n_iter = 100, cv = 3, verbose=2, random_state=42, n_jobs = -1)\n"
   ]
  },
  {
   "cell_type": "code",
   "execution_count": 28,
   "metadata": {},
   "outputs": [
    {
     "name": "stdout",
     "output_type": "stream",
     "text": [
      "Fitting 3 folds for each of 100 candidates, totalling 300 fits\n"
     ]
    },
    {
     "name": "stderr",
     "output_type": "stream",
     "text": [
      "[Parallel(n_jobs=-1)]: Using backend LokyBackend with 8 concurrent workers.\n",
      "[Parallel(n_jobs=-1)]: Done  25 tasks      | elapsed:   52.1s\n",
      "[Parallel(n_jobs=-1)]: Done 146 tasks      | elapsed:  4.0min\n",
      "[Parallel(n_jobs=-1)]: Done 300 out of 300 | elapsed:  8.2min finished\n"
     ]
    },
    {
     "data": {
      "text/plain": [
       "RandomizedSearchCV(cv=3, estimator=RandomForestClassifier(), n_iter=100,\n",
       "                   n_jobs=-1,\n",
       "                   param_distributions={'bootstrap': [True, False],\n",
       "                                        'max_depth': [10, 20, 30, 40, 50, 60,\n",
       "                                                      70, 80, 90, 100, 110,\n",
       "                                                      None],\n",
       "                                        'max_features': ['auto', 'sqrt'],\n",
       "                                        'min_samples_leaf': [1, 2, 4],\n",
       "                                        'min_samples_split': [2, 5, 10],\n",
       "                                        'n_estimators': [200, 400, 600, 800,\n",
       "                                                         1000, 1200, 1400, 1600,\n",
       "                                                         1800, 2000]},\n",
       "                   random_state=42, verbose=2)"
      ]
     },
     "execution_count": 28,
     "metadata": {},
     "output_type": "execute_result"
    }
   ],
   "source": [
    "rf_random.fit(X_train_b, y_train_b)"
   ]
  },
  {
   "cell_type": "code",
   "execution_count": 29,
   "metadata": {},
   "outputs": [
    {
     "name": "stdout",
     "output_type": "stream",
     "text": [
      "Random Forest classifier best paramas\n",
      "0.8378034326692755\n",
      "{'n_estimators': 1800, 'min_samples_split': 10, 'min_samples_leaf': 1, 'max_features': 'sqrt', 'max_depth': 30, 'bootstrap': False}\n"
     ]
    }
   ],
   "source": [
    "print('Random Forest classifier best paramas')\n",
    "print(rf_random.best_score_)\n",
    "print(rf_random.best_params_)"
   ]
  },
  {
   "cell_type": "code",
   "execution_count": 30,
   "metadata": {},
   "outputs": [],
   "source": [
    "rf_optimal = RandomForestClassifier(n_estimators = 1800, min_samples_split = 10,\n",
    "                                    min_samples_leaf = 1, max_features = 'sqrt', max_depth = 30,\n",
    "                                    bootstrap = False)"
   ]
  },
  {
   "cell_type": "code",
   "execution_count": 31,
   "metadata": {},
   "outputs": [
    {
     "data": {
      "text/plain": [
       "RandomForestClassifier(bootstrap=False, max_depth=30, max_features='sqrt',\n",
       "                       min_samples_split=10, n_estimators=1800)"
      ]
     },
     "execution_count": 31,
     "metadata": {},
     "output_type": "execute_result"
    }
   ],
   "source": [
    "rf_optimal.fit(X_train_b, y_train_b)"
   ]
  },
  {
   "cell_type": "code",
   "execution_count": 32,
   "metadata": {
    "scrolled": true
   },
   "outputs": [
    {
     "name": "stdout",
     "output_type": "stream",
     "text": [
      "              precision    recall  f1-score   support\n",
      "\n",
      "           0       0.91      0.88      0.90      1095\n",
      "           1       0.16      0.22      0.19       118\n",
      "\n",
      "    accuracy                           0.81      1213\n",
      "   macro avg       0.54      0.55      0.54      1213\n",
      "weighted avg       0.84      0.81      0.83      1213\n",
      "\n",
      "accuracy score on test: 0.8145094806265457\n",
      "accuracy on train: 0.892760736196319\n"
     ]
    }
   ],
   "source": [
    "#Month added\n",
    "from sklearn.metrics import accuracy_score\n",
    "from sklearn.metrics import classification_report\n",
    "\n",
    "predictions_train = rf_optimal.predict(X_train_b)\n",
    "predictions_test = rf_optimal.predict(X_test)\n",
    "print(classification_report(y_test, predictions_test))\n",
    "print(\"accuracy score on test:\", accuracy_score(y_test, predictions_test))\n",
    "print(\"accuracy on train:\", accuracy_score(y_train_b, predictions_train))"
   ]
  },
  {
   "cell_type": "code",
   "execution_count": 37,
   "metadata": {},
   "outputs": [
    {
     "name": "stderr",
     "output_type": "stream",
     "text": [
      "C:\\Users\\Álvaro\\anaconda3.1\\lib\\site-packages\\sklearn\\utils\\deprecation.py:143: FutureWarning: The sklearn.ensemble.forest module is  deprecated in version 0.22 and will be removed in version 0.24. The corresponding classes / functions should instead be imported from sklearn.ensemble. Anything that cannot be imported from sklearn.ensemble is now part of the private API.\n",
      "  warnings.warn(message, FutureWarning)\n"
     ]
    }
   ],
   "source": [
    "from sklearn.metrics import r2_score\n",
    "from rfpimp import permutation_importances\n",
    "\n",
    "def r2(rf, X_train, y_train):\n",
    "    return r2_score(y_train, rf.predict(X_train))\n",
    "\n",
    "perm_imp_rfpimp = permutation_importances(rf, X_train, y_train, r2)"
   ]
  },
  {
   "cell_type": "code",
   "execution_count": 39,
   "metadata": {},
   "outputs": [
    {
     "ename": "NameError",
     "evalue": "name 'plot' is not defined",
     "output_type": "error",
     "traceback": [
      "\u001b[1;31m---------------------------------------------------------------------------\u001b[0m",
      "\u001b[1;31mNameError\u001b[0m                                 Traceback (most recent call last)",
      "\u001b[1;32m<ipython-input-39-7b7d0d7601e0>\u001b[0m in \u001b[0;36m<module>\u001b[1;34m\u001b[0m\n\u001b[1;32m----> 1\u001b[1;33m \u001b[0mplot\u001b[0m\u001b[1;33m.\u001b[0m\u001b[0mperm_imp_rfpimp\u001b[0m\u001b[1;33m\u001b[0m\u001b[1;33m\u001b[0m\u001b[0m\n\u001b[0m",
      "\u001b[1;31mNameError\u001b[0m: name 'plot' is not defined"
     ]
    }
   ],
   "source": []
  },
  {
   "cell_type": "code",
   "execution_count": null,
   "metadata": {},
   "outputs": [],
   "source": []
  },
  {
   "cell_type": "code",
   "execution_count": null,
   "metadata": {},
   "outputs": [],
   "source": []
  },
  {
   "cell_type": "code",
   "execution_count": null,
   "metadata": {},
   "outputs": [],
   "source": []
  },
  {
   "cell_type": "code",
   "execution_count": null,
   "metadata": {},
   "outputs": [],
   "source": []
  },
  {
   "cell_type": "code",
   "execution_count": null,
   "metadata": {},
   "outputs": [],
   "source": []
  }
 ],
 "metadata": {
  "kernelspec": {
   "display_name": "Python 3",
   "language": "python",
   "name": "python3"
  },
  "language_info": {
   "codemirror_mode": {
    "name": "ipython",
    "version": 3
   },
   "file_extension": ".py",
   "mimetype": "text/x-python",
   "name": "python",
   "nbconvert_exporter": "python",
   "pygments_lexer": "ipython3",
   "version": "3.7.6"
  }
 },
 "nbformat": 4,
 "nbformat_minor": 4
}
